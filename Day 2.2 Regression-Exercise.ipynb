{
 "cells": [
  {
   "cell_type": "markdown",
   "metadata": {},
   "source": [
    "# Regression Exercise \n",
    "\n",
    "California Housing Data\n",
    "\n",
    "This data set contains information about all the block groups in California from the 1990 Census. In this sample a block group on average includes 1425.5 individuals living in a geographically compact area. \n",
    "\n",
    "The task is to aproximate the median house value of each block from the values of the rest of the variables. \n",
    "\n",
    " It has been obtained from the LIACC repository. The original page where the data set can be found is: http://www.liaad.up.pt/~ltorgo/Regression/DataSets.html.\n",
    " "
   ]
  },
  {
   "cell_type": "markdown",
   "metadata": {
    "collapsed": true
   },
   "source": [
    "The Features:\n",
    " \n",
    "* housingMedianAge: continuous. \n",
    "* totalRooms: continuous. \n",
    "* totalBedrooms: continuous. \n",
    "* population: continuous. \n",
    "* households: continuous. \n",
    "* medianIncome: continuous. \n",
    "* medianHouseValue: continuous. "
   ]
  },
  {
   "cell_type": "markdown",
   "metadata": {},
   "source": [
    "## The Data"
   ]
  },
  {
   "cell_type": "markdown",
   "metadata": {},
   "source": [
    "** Import the cal_housing_clean.csv file with pandas. Separate it into a training (70%) and testing set(30%).**"
   ]
  },
  {
   "cell_type": "code",
   "execution_count": 72,
   "metadata": {},
   "outputs": [],
   "source": [
    "import pandas as pd\n",
    "import numpy as np\n",
    "import matplotlib.pyplot as plt\n",
    "%matplotlib inline \n",
    "import tensorflow.compat.v1 as tf\n",
    "tf.disable_v2_behavior()\n"
   ]
  },
  {
   "cell_type": "code",
   "execution_count": 73,
   "metadata": {},
   "outputs": [],
   "source": [
    "data = pd.read_csv(\"https://raw.githubusercontent.com/Aaryant31/DeepLearning_Practice/main/cal_housing_clean.csv\")"
   ]
  },
  {
   "cell_type": "code",
   "execution_count": 74,
   "metadata": {},
   "outputs": [
    {
     "data": {
      "text/html": [
       "<div>\n",
       "<style scoped>\n",
       "    .dataframe tbody tr th:only-of-type {\n",
       "        vertical-align: middle;\n",
       "    }\n",
       "\n",
       "    .dataframe tbody tr th {\n",
       "        vertical-align: top;\n",
       "    }\n",
       "\n",
       "    .dataframe thead th {\n",
       "        text-align: right;\n",
       "    }\n",
       "</style>\n",
       "<table border=\"1\" class=\"dataframe\">\n",
       "  <thead>\n",
       "    <tr style=\"text-align: right;\">\n",
       "      <th></th>\n",
       "      <th>housingMedianAge</th>\n",
       "      <th>totalRooms</th>\n",
       "      <th>totalBedrooms</th>\n",
       "      <th>population</th>\n",
       "      <th>households</th>\n",
       "      <th>medianIncome</th>\n",
       "      <th>medianHouseValue</th>\n",
       "    </tr>\n",
       "  </thead>\n",
       "  <tbody>\n",
       "    <tr>\n",
       "      <th>0</th>\n",
       "      <td>41.0</td>\n",
       "      <td>880.0</td>\n",
       "      <td>129.0</td>\n",
       "      <td>322.0</td>\n",
       "      <td>126.0</td>\n",
       "      <td>8.3252</td>\n",
       "      <td>452600.0</td>\n",
       "    </tr>\n",
       "    <tr>\n",
       "      <th>1</th>\n",
       "      <td>21.0</td>\n",
       "      <td>7099.0</td>\n",
       "      <td>1106.0</td>\n",
       "      <td>2401.0</td>\n",
       "      <td>1138.0</td>\n",
       "      <td>8.3014</td>\n",
       "      <td>358500.0</td>\n",
       "    </tr>\n",
       "    <tr>\n",
       "      <th>2</th>\n",
       "      <td>52.0</td>\n",
       "      <td>1467.0</td>\n",
       "      <td>190.0</td>\n",
       "      <td>496.0</td>\n",
       "      <td>177.0</td>\n",
       "      <td>7.2574</td>\n",
       "      <td>352100.0</td>\n",
       "    </tr>\n",
       "    <tr>\n",
       "      <th>3</th>\n",
       "      <td>52.0</td>\n",
       "      <td>1274.0</td>\n",
       "      <td>235.0</td>\n",
       "      <td>558.0</td>\n",
       "      <td>219.0</td>\n",
       "      <td>5.6431</td>\n",
       "      <td>341300.0</td>\n",
       "    </tr>\n",
       "    <tr>\n",
       "      <th>4</th>\n",
       "      <td>52.0</td>\n",
       "      <td>1627.0</td>\n",
       "      <td>280.0</td>\n",
       "      <td>565.0</td>\n",
       "      <td>259.0</td>\n",
       "      <td>3.8462</td>\n",
       "      <td>342200.0</td>\n",
       "    </tr>\n",
       "  </tbody>\n",
       "</table>\n",
       "</div>"
      ],
      "text/plain": [
       "   housingMedianAge  totalRooms  totalBedrooms  population  households  \\\n",
       "0              41.0       880.0          129.0       322.0       126.0   \n",
       "1              21.0      7099.0         1106.0      2401.0      1138.0   \n",
       "2              52.0      1467.0          190.0       496.0       177.0   \n",
       "3              52.0      1274.0          235.0       558.0       219.0   \n",
       "4              52.0      1627.0          280.0       565.0       259.0   \n",
       "\n",
       "   medianIncome  medianHouseValue  \n",
       "0        8.3252          452600.0  \n",
       "1        8.3014          358500.0  \n",
       "2        7.2574          352100.0  \n",
       "3        5.6431          341300.0  \n",
       "4        3.8462          342200.0  "
      ]
     },
     "execution_count": 74,
     "metadata": {},
     "output_type": "execute_result"
    }
   ],
   "source": [
    "data.head()"
   ]
  },
  {
   "cell_type": "code",
   "execution_count": 75,
   "metadata": {},
   "outputs": [
    {
     "data": {
      "text/html": [
       "<div>\n",
       "<style scoped>\n",
       "    .dataframe tbody tr th:only-of-type {\n",
       "        vertical-align: middle;\n",
       "    }\n",
       "\n",
       "    .dataframe tbody tr th {\n",
       "        vertical-align: top;\n",
       "    }\n",
       "\n",
       "    .dataframe thead th {\n",
       "        text-align: right;\n",
       "    }\n",
       "</style>\n",
       "<table border=\"1\" class=\"dataframe\">\n",
       "  <thead>\n",
       "    <tr style=\"text-align: right;\">\n",
       "      <th></th>\n",
       "      <th>count</th>\n",
       "      <th>mean</th>\n",
       "      <th>std</th>\n",
       "      <th>min</th>\n",
       "      <th>25%</th>\n",
       "      <th>50%</th>\n",
       "      <th>75%</th>\n",
       "      <th>max</th>\n",
       "    </tr>\n",
       "  </thead>\n",
       "  <tbody>\n",
       "    <tr>\n",
       "      <th>housingMedianAge</th>\n",
       "      <td>20640.0</td>\n",
       "      <td>28.639486</td>\n",
       "      <td>12.585558</td>\n",
       "      <td>1.0000</td>\n",
       "      <td>18.0000</td>\n",
       "      <td>29.0000</td>\n",
       "      <td>37.00000</td>\n",
       "      <td>52.0000</td>\n",
       "    </tr>\n",
       "    <tr>\n",
       "      <th>totalRooms</th>\n",
       "      <td>20640.0</td>\n",
       "      <td>2635.763081</td>\n",
       "      <td>2181.615252</td>\n",
       "      <td>2.0000</td>\n",
       "      <td>1447.7500</td>\n",
       "      <td>2127.0000</td>\n",
       "      <td>3148.00000</td>\n",
       "      <td>39320.0000</td>\n",
       "    </tr>\n",
       "    <tr>\n",
       "      <th>totalBedrooms</th>\n",
       "      <td>20640.0</td>\n",
       "      <td>537.898014</td>\n",
       "      <td>421.247906</td>\n",
       "      <td>1.0000</td>\n",
       "      <td>295.0000</td>\n",
       "      <td>435.0000</td>\n",
       "      <td>647.00000</td>\n",
       "      <td>6445.0000</td>\n",
       "    </tr>\n",
       "    <tr>\n",
       "      <th>population</th>\n",
       "      <td>20640.0</td>\n",
       "      <td>1425.476744</td>\n",
       "      <td>1132.462122</td>\n",
       "      <td>3.0000</td>\n",
       "      <td>787.0000</td>\n",
       "      <td>1166.0000</td>\n",
       "      <td>1725.00000</td>\n",
       "      <td>35682.0000</td>\n",
       "    </tr>\n",
       "    <tr>\n",
       "      <th>households</th>\n",
       "      <td>20640.0</td>\n",
       "      <td>499.539680</td>\n",
       "      <td>382.329753</td>\n",
       "      <td>1.0000</td>\n",
       "      <td>280.0000</td>\n",
       "      <td>409.0000</td>\n",
       "      <td>605.00000</td>\n",
       "      <td>6082.0000</td>\n",
       "    </tr>\n",
       "    <tr>\n",
       "      <th>medianIncome</th>\n",
       "      <td>20640.0</td>\n",
       "      <td>3.870671</td>\n",
       "      <td>1.899822</td>\n",
       "      <td>0.4999</td>\n",
       "      <td>2.5634</td>\n",
       "      <td>3.5348</td>\n",
       "      <td>4.74325</td>\n",
       "      <td>15.0001</td>\n",
       "    </tr>\n",
       "    <tr>\n",
       "      <th>medianHouseValue</th>\n",
       "      <td>20640.0</td>\n",
       "      <td>206855.816909</td>\n",
       "      <td>115395.615874</td>\n",
       "      <td>14999.0000</td>\n",
       "      <td>119600.0000</td>\n",
       "      <td>179700.0000</td>\n",
       "      <td>264725.00000</td>\n",
       "      <td>500001.0000</td>\n",
       "    </tr>\n",
       "  </tbody>\n",
       "</table>\n",
       "</div>"
      ],
      "text/plain": [
       "                    count           mean            std         min  \\\n",
       "housingMedianAge  20640.0      28.639486      12.585558      1.0000   \n",
       "totalRooms        20640.0    2635.763081    2181.615252      2.0000   \n",
       "totalBedrooms     20640.0     537.898014     421.247906      1.0000   \n",
       "population        20640.0    1425.476744    1132.462122      3.0000   \n",
       "households        20640.0     499.539680     382.329753      1.0000   \n",
       "medianIncome      20640.0       3.870671       1.899822      0.4999   \n",
       "medianHouseValue  20640.0  206855.816909  115395.615874  14999.0000   \n",
       "\n",
       "                          25%          50%           75%          max  \n",
       "housingMedianAge      18.0000      29.0000      37.00000      52.0000  \n",
       "totalRooms          1447.7500    2127.0000    3148.00000   39320.0000  \n",
       "totalBedrooms        295.0000     435.0000     647.00000    6445.0000  \n",
       "population           787.0000    1166.0000    1725.00000   35682.0000  \n",
       "households           280.0000     409.0000     605.00000    6082.0000  \n",
       "medianIncome           2.5634       3.5348       4.74325      15.0001  \n",
       "medianHouseValue  119600.0000  179700.0000  264725.00000  500001.0000  "
      ]
     },
     "execution_count": 75,
     "metadata": {},
     "output_type": "execute_result"
    }
   ],
   "source": [
    "data.describe().transpose()"
   ]
  },
  {
   "cell_type": "code",
   "execution_count": 76,
   "metadata": {},
   "outputs": [],
   "source": [
    "x_data = data.drop(['medianHouseValue'],axis=1)"
   ]
  },
  {
   "cell_type": "code",
   "execution_count": 77,
   "metadata": {
    "scrolled": true
   },
   "outputs": [],
   "source": [
    "y_val = data['medianHouseValue']"
   ]
  },
  {
   "cell_type": "code",
   "execution_count": 78,
   "metadata": {},
   "outputs": [],
   "source": [
    "from sklearn.model_selection import train_test_split"
   ]
  },
  {
   "cell_type": "code",
   "execution_count": 79,
   "metadata": {},
   "outputs": [
    {
     "data": {
      "text/plain": [
       "<function sklearn.model_selection._split.train_test_split(*arrays, test_size=None, train_size=None, random_state=None, shuffle=True, stratify=None)>"
      ]
     },
     "execution_count": 79,
     "metadata": {},
     "output_type": "execute_result"
    }
   ],
   "source": [
    "train_test_split"
   ]
  },
  {
   "cell_type": "code",
   "execution_count": 80,
   "metadata": {},
   "outputs": [],
   "source": [
    "X_train, X_test, y_train, y_test = train_test_split(x_data, y_val, test_size=0.3, random_state=101)"
   ]
  },
  {
   "cell_type": "markdown",
   "metadata": {},
   "source": [
    "### Scale the Feature Data\n",
    "\n",
    "** Use sklearn preprocessing to create a MinMaxScaler for the feature data. Fit this scaler only to the training data. Then use it to transform X_test and X_train. Then use the scaled X_test and X_train along with pd.Dataframe to re-create two dataframes of scaled data.**"
   ]
  },
  {
   "cell_type": "code",
   "execution_count": 81,
   "metadata": {},
   "outputs": [],
   "source": [
    "from sklearn.preprocessing import MinMaxScaler"
   ]
  },
  {
   "cell_type": "code",
   "execution_count": 82,
   "metadata": {},
   "outputs": [],
   "source": [
    "scaler = MinMaxScaler()"
   ]
  },
  {
   "cell_type": "code",
   "execution_count": 83,
   "metadata": {},
   "outputs": [
    {
     "data": {
      "text/plain": [
       "MinMaxScaler()"
      ]
     },
     "execution_count": 83,
     "metadata": {},
     "output_type": "execute_result"
    }
   ],
   "source": [
    "scaler.fit(X_train)"
   ]
  },
  {
   "cell_type": "code",
   "execution_count": 84,
   "metadata": {},
   "outputs": [],
   "source": [
    "X_train = pd.DataFrame(data=scaler.transform(X_train),columns = X_train.columns,index=X_train.index)"
   ]
  },
  {
   "cell_type": "code",
   "execution_count": 85,
   "metadata": {},
   "outputs": [],
   "source": [
    "X_test = pd.DataFrame(data=scaler.transform(X_test),columns = X_test.columns,index=X_test.index)"
   ]
  },
  {
   "cell_type": "markdown",
   "metadata": {},
   "source": [
    "### Create Feature Columns\n",
    "\n",
    "** Create the necessary tf.feature_column objects for the estimator. They should all be trated as continuous numeric_columns. **"
   ]
  },
  {
   "cell_type": "code",
   "execution_count": 86,
   "metadata": {},
   "outputs": [
    {
     "data": {
      "text/plain": [
       "Index(['housingMedianAge', 'totalRooms', 'totalBedrooms', 'population',\n",
       "       'households', 'medianIncome', 'medianHouseValue'],\n",
       "      dtype='object')"
      ]
     },
     "execution_count": 86,
     "metadata": {},
     "output_type": "execute_result"
    }
   ],
   "source": [
    "data.columns"
   ]
  },
  {
   "cell_type": "code",
   "execution_count": null,
   "metadata": {},
   "outputs": [],
   "source": []
  },
  {
   "cell_type": "code",
   "execution_count": 87,
   "metadata": {},
   "outputs": [],
   "source": [
    "age =tf.feature_column.numeric_column('housingMedianAge')\n",
    "rooms =tf.feature_column.numeric_column('totalRooms')\n",
    "bedrooms =tf.feature_column.numeric_column('totalBedrooms')\n",
    "pop =tf.feature_column.numeric_column('population')\n",
    "households =tf.feature_column.numeric_column('households')\n",
    "income =tf.feature_column.numeric_column('medianIncome')\n"
   ]
  },
  {
   "cell_type": "code",
   "execution_count": 88,
   "metadata": {},
   "outputs": [],
   "source": [
    "feat_col= [age,rooms,bedrooms,pop,households,income]"
   ]
  },
  {
   "cell_type": "code",
   "execution_count": null,
   "metadata": {},
   "outputs": [],
   "source": []
  },
  {
   "cell_type": "markdown",
   "metadata": {},
   "source": [
    "** Create the input function for the estimator object. (play around with batch_size and num_epochs)**"
   ]
  },
  {
   "cell_type": "code",
   "execution_count": 89,
   "metadata": {},
   "outputs": [],
   "source": [
    "input_func= tf.estimator.inputs.pandas_input_fn(x=X_train,y=y_train,batch_size=10,num_epochs=1000,shuffle=False)"
   ]
  },
  {
   "cell_type": "markdown",
   "metadata": {},
   "source": [
    "** Create the estimator model. Use a DNNRegressor. Play around with the hidden units! **"
   ]
  },
  {
   "cell_type": "code",
   "execution_count": 90,
   "metadata": {},
   "outputs": [
    {
     "name": "stdout",
     "output_type": "stream",
     "text": [
      "INFO:tensorflow:Using default config.\n",
      "WARNING:tensorflow:Using temporary folder as model directory: C:\\Users\\ULTIMA~1\\AppData\\Local\\Temp\\tmpe5uf8_0z\n",
      "INFO:tensorflow:Using config: {'_model_dir': 'C:\\\\Users\\\\ULTIMA~1\\\\AppData\\\\Local\\\\Temp\\\\tmpe5uf8_0z', '_tf_random_seed': None, '_save_summary_steps': 100, '_save_checkpoints_steps': None, '_save_checkpoints_secs': 600, '_session_config': allow_soft_placement: true\n",
      "graph_options {\n",
      "  rewrite_options {\n",
      "    meta_optimizer_iterations: ONE\n",
      "  }\n",
      "}\n",
      ", '_keep_checkpoint_max': 5, '_keep_checkpoint_every_n_hours': 10000, '_log_step_count_steps': 100, '_train_distribute': None, '_device_fn': None, '_protocol': None, '_eval_distribute': None, '_experimental_distribute': None, '_experimental_max_worker_delay_secs': None, '_session_creation_timeout_secs': 7200, '_checkpoint_save_graph_def': True, '_service': None, '_cluster_spec': ClusterSpec({}), '_task_type': 'worker', '_task_id': 0, '_global_id_in_cluster': 0, '_master': '', '_evaluation_master': '', '_is_chief': True, '_num_ps_replicas': 0, '_num_worker_replicas': 1}\n"
     ]
    }
   ],
   "source": [
    "model = tf.estimator.DNNRegressor(hidden_units=[6,6,6],feature_columns=feat_col)"
   ]
  },
  {
   "cell_type": "markdown",
   "metadata": {},
   "source": [
    "##### ** Train the model for ~1,000 steps. (Later come back to this and train it for more and check for improvement) **"
   ]
  },
  {
   "cell_type": "code",
   "execution_count": 91,
   "metadata": {},
   "outputs": [
    {
     "name": "stdout",
     "output_type": "stream",
     "text": [
      "INFO:tensorflow:Calling model_fn.\n",
      "INFO:tensorflow:Done calling model_fn.\n",
      "INFO:tensorflow:Create CheckpointSaverHook.\n",
      "INFO:tensorflow:Graph was finalized.\n",
      "INFO:tensorflow:Running local_init_op.\n",
      "INFO:tensorflow:Done running local_init_op.\n",
      "INFO:tensorflow:Calling checkpoint listeners before saving checkpoint 0...\n",
      "INFO:tensorflow:Saving checkpoints for 0 into C:\\Users\\ULTIMA~1\\AppData\\Local\\Temp\\tmpe5uf8_0z\\model.ckpt.\n",
      "INFO:tensorflow:Calling checkpoint listeners after saving checkpoint 0...\n",
      "INFO:tensorflow:loss = 426450200000.0, step = 1\n",
      "INFO:tensorflow:global_step/sec: 593.904\n",
      "INFO:tensorflow:loss = 913316200000.0, step = 101 (0.169 sec)\n",
      "INFO:tensorflow:global_step/sec: 753.22\n",
      "INFO:tensorflow:loss = 504426270000.0, step = 201 (0.136 sec)\n",
      "INFO:tensorflow:global_step/sec: 737.642\n",
      "INFO:tensorflow:loss = 660629900000.0, step = 301 (0.134 sec)\n",
      "INFO:tensorflow:global_step/sec: 765.395\n",
      "INFO:tensorflow:loss = 1118343300000.0, step = 401 (0.131 sec)\n",
      "INFO:tensorflow:global_step/sec: 765.236\n",
      "INFO:tensorflow:loss = 622711200000.0, step = 501 (0.131 sec)\n",
      "INFO:tensorflow:global_step/sec: 737.301\n",
      "INFO:tensorflow:loss = 349963320000.0, step = 601 (0.136 sec)\n",
      "INFO:tensorflow:global_step/sec: 759.441\n",
      "INFO:tensorflow:loss = 449271630000.0, step = 701 (0.133 sec)\n",
      "INFO:tensorflow:global_step/sec: 716.188\n",
      "INFO:tensorflow:loss = 459998300000.0, step = 801 (0.138 sec)\n",
      "INFO:tensorflow:global_step/sec: 789.602\n",
      "INFO:tensorflow:loss = 151998500000.0, step = 901 (0.130 sec)\n",
      "INFO:tensorflow:global_step/sec: 726.515\n",
      "INFO:tensorflow:loss = 284926350000.0, step = 1001 (0.136 sec)\n",
      "INFO:tensorflow:global_step/sec: 752.566\n",
      "INFO:tensorflow:loss = 183330570000.0, step = 1101 (0.135 sec)\n",
      "INFO:tensorflow:global_step/sec: 747.974\n",
      "INFO:tensorflow:loss = 195931720000.0, step = 1201 (0.134 sec)\n",
      "INFO:tensorflow:global_step/sec: 759.594\n",
      "INFO:tensorflow:loss = 106774940000.0, step = 1301 (0.133 sec)\n",
      "INFO:tensorflow:global_step/sec: 721.349\n",
      "INFO:tensorflow:loss = 81618490000.0, step = 1401 (0.137 sec)\n",
      "INFO:tensorflow:global_step/sec: 738.18\n",
      "INFO:tensorflow:loss = 241296650000.0, step = 1501 (0.134 sec)\n",
      "INFO:tensorflow:global_step/sec: 741.304\n",
      "INFO:tensorflow:loss = 208754950000.0, step = 1601 (0.138 sec)\n",
      "INFO:tensorflow:global_step/sec: 737.476\n",
      "INFO:tensorflow:loss = 100219030000.0, step = 1701 (0.134 sec)\n",
      "INFO:tensorflow:global_step/sec: 744.237\n",
      "INFO:tensorflow:loss = 107895730000.0, step = 1801 (0.135 sec)\n",
      "INFO:tensorflow:global_step/sec: 771.285\n",
      "INFO:tensorflow:loss = 127308180000.0, step = 1901 (0.129 sec)\n",
      "INFO:tensorflow:global_step/sec: 771.284\n",
      "INFO:tensorflow:loss = 30793675000.0, step = 2001 (0.134 sec)\n",
      "INFO:tensorflow:global_step/sec: 732.665\n",
      "INFO:tensorflow:loss = 107336320000.0, step = 2101 (0.136 sec)\n",
      "INFO:tensorflow:global_step/sec: 759.605\n",
      "INFO:tensorflow:loss = 130388310000.0, step = 2201 (0.131 sec)\n",
      "INFO:tensorflow:global_step/sec: 743.214\n",
      "INFO:tensorflow:loss = 82354330000.0, step = 2301 (0.136 sec)\n",
      "INFO:tensorflow:global_step/sec: 742.723\n",
      "INFO:tensorflow:loss = 23766166000.0, step = 2401 (0.132 sec)\n",
      "INFO:tensorflow:global_step/sec: 753.603\n",
      "INFO:tensorflow:loss = 107490935000.0, step = 2501 (0.134 sec)\n",
      "INFO:tensorflow:global_step/sec: 753.834\n",
      "INFO:tensorflow:loss = 171504170000.0, step = 2601 (0.132 sec)\n",
      "INFO:tensorflow:global_step/sec: 757.342\n",
      "INFO:tensorflow:loss = 135480190000.0, step = 2701 (0.133 sec)\n",
      "INFO:tensorflow:global_step/sec: 776.999\n",
      "INFO:tensorflow:loss = 159318840000.0, step = 2801 (0.128 sec)\n",
      "INFO:tensorflow:global_step/sec: 737.11\n",
      "INFO:tensorflow:loss = 56248922000.0, step = 2901 (0.136 sec)\n",
      "INFO:tensorflow:global_step/sec: 755.364\n",
      "INFO:tensorflow:loss = 142361430000.0, step = 3001 (0.132 sec)\n",
      "INFO:tensorflow:global_step/sec: 745.757\n",
      "INFO:tensorflow:loss = 57470935000.0, step = 3101 (0.137 sec)\n",
      "INFO:tensorflow:global_step/sec: 754.053\n",
      "INFO:tensorflow:loss = 112790540000.0, step = 3201 (0.132 sec)\n",
      "INFO:tensorflow:global_step/sec: 638.953\n",
      "INFO:tensorflow:loss = 104101536000.0, step = 3301 (0.155 sec)\n",
      "INFO:tensorflow:global_step/sec: 691.505\n",
      "INFO:tensorflow:loss = 81686340000.0, step = 3401 (0.145 sec)\n",
      "INFO:tensorflow:global_step/sec: 716.192\n",
      "INFO:tensorflow:loss = 43896197000.0, step = 3501 (0.140 sec)\n",
      "INFO:tensorflow:global_step/sec: 726.573\n",
      "INFO:tensorflow:loss = 222582490000.0, step = 3601 (0.139 sec)\n",
      "INFO:tensorflow:global_step/sec: 701.166\n",
      "INFO:tensorflow:loss = 160465520000.0, step = 3701 (0.144 sec)\n",
      "INFO:tensorflow:global_step/sec: 706.109\n",
      "INFO:tensorflow:loss = 88362205000.0, step = 3801 (0.143 sec)\n",
      "INFO:tensorflow:global_step/sec: 677.486\n",
      "INFO:tensorflow:loss = 144232510000.0, step = 3901 (0.147 sec)\n",
      "INFO:tensorflow:global_step/sec: 731.877\n",
      "INFO:tensorflow:loss = 127773520000.0, step = 4001 (0.133 sec)\n",
      "INFO:tensorflow:global_step/sec: 835.56\n",
      "INFO:tensorflow:loss = 36905420000.0, step = 4101 (0.123 sec)\n",
      "INFO:tensorflow:global_step/sec: 777.266\n",
      "INFO:tensorflow:loss = 90348430000.0, step = 4201 (0.128 sec)\n",
      "INFO:tensorflow:global_step/sec: 774.127\n",
      "INFO:tensorflow:loss = 63819403000.0, step = 4301 (0.131 sec)\n",
      "INFO:tensorflow:global_step/sec: 711.116\n",
      "INFO:tensorflow:loss = 48369300000.0, step = 4401 (0.138 sec)\n",
      "INFO:tensorflow:global_step/sec: 765.51\n",
      "INFO:tensorflow:loss = 52149305000.0, step = 4501 (0.132 sec)\n",
      "INFO:tensorflow:global_step/sec: 771.288\n",
      "INFO:tensorflow:loss = 168917530000.0, step = 4601 (0.131 sec)\n",
      "INFO:tensorflow:global_step/sec: 753.884\n",
      "INFO:tensorflow:loss = 80351306000.0, step = 4701 (0.131 sec)\n",
      "INFO:tensorflow:global_step/sec: 777.268\n",
      "INFO:tensorflow:loss = 81042100000.0, step = 4801 (0.131 sec)\n",
      "INFO:tensorflow:global_step/sec: 753.89\n",
      "INFO:tensorflow:loss = 201697720000.0, step = 4901 (0.133 sec)\n",
      "INFO:tensorflow:global_step/sec: 783.335\n",
      "INFO:tensorflow:loss = 69579850000.0, step = 5001 (0.128 sec)\n",
      "INFO:tensorflow:global_step/sec: 753.889\n",
      "INFO:tensorflow:loss = 112884875000.0, step = 5101 (0.133 sec)\n",
      "INFO:tensorflow:global_step/sec: 771.288\n",
      "INFO:tensorflow:loss = 110690796000.0, step = 5201 (0.131 sec)\n",
      "INFO:tensorflow:global_step/sec: 731.879\n",
      "INFO:tensorflow:loss = 153912570000.0, step = 5301 (0.138 sec)\n",
      "INFO:tensorflow:global_step/sec: 777.122\n",
      "INFO:tensorflow:loss = 45577855000.0, step = 5401 (0.127 sec)\n",
      "INFO:tensorflow:global_step/sec: 789.504\n",
      "INFO:tensorflow:loss = 77577250000.0, step = 5501 (0.128 sec)\n",
      "INFO:tensorflow:global_step/sec: 748.333\n",
      "INFO:tensorflow:loss = 30667358000.0, step = 5601 (0.133 sec)\n",
      "INFO:tensorflow:global_step/sec: 795.845\n",
      "INFO:tensorflow:loss = 75747700000.0, step = 5701 (0.126 sec)\n",
      "INFO:tensorflow:global_step/sec: 771.121\n",
      "INFO:tensorflow:loss = 95718620000.0, step = 5801 (0.131 sec)\n",
      "INFO:tensorflow:global_step/sec: 748.42\n",
      "INFO:tensorflow:loss = 46692250000.0, step = 5901 (0.134 sec)\n",
      "INFO:tensorflow:global_step/sec: 759.597\n",
      "INFO:tensorflow:loss = 53289650000.0, step = 6001 (0.132 sec)\n",
      "INFO:tensorflow:global_step/sec: 765.289\n",
      "INFO:tensorflow:loss = 137003870000.0, step = 6101 (0.130 sec)\n",
      "INFO:tensorflow:global_step/sec: 750.468\n",
      "INFO:tensorflow:loss = 131719905000.0, step = 6201 (0.134 sec)\n",
      "INFO:tensorflow:global_step/sec: 777.156\n",
      "INFO:tensorflow:loss = 133739300000.0, step = 6301 (0.128 sec)\n",
      "INFO:tensorflow:global_step/sec: 795.764\n",
      "INFO:tensorflow:loss = 117002945000.0, step = 6401 (0.126 sec)\n",
      "INFO:tensorflow:global_step/sec: 759.719\n",
      "INFO:tensorflow:loss = 112657400000.0, step = 6501 (0.133 sec)\n",
      "INFO:tensorflow:global_step/sec: 742.718\n",
      "INFO:tensorflow:loss = 213802520000.0, step = 6601 (0.132 sec)\n",
      "INFO:tensorflow:global_step/sec: 795.436\n",
      "INFO:tensorflow:loss = 159367480000.0, step = 6701 (0.127 sec)\n",
      "INFO:tensorflow:global_step/sec: 789.51\n",
      "INFO:tensorflow:loss = 63272567000.0, step = 6801 (0.130 sec)\n",
      "INFO:tensorflow:global_step/sec: 771.145\n",
      "INFO:tensorflow:loss = 139388400000.0, step = 6901 (0.129 sec)\n",
      "INFO:tensorflow:global_step/sec: 748.26\n",
      "INFO:tensorflow:loss = 51734290000.0, step = 7001 (0.134 sec)\n",
      "INFO:tensorflow:global_step/sec: 739.393\n",
      "INFO:tensorflow:loss = 286470930000.0, step = 7101 (0.133 sec)\n",
      "INFO:tensorflow:global_step/sec: 750.583\n",
      "INFO:tensorflow:loss = 86121070000.0, step = 7201 (0.133 sec)\n",
      "INFO:tensorflow:global_step/sec: 808.762\n",
      "INFO:tensorflow:loss = 173415580000.0, step = 7301 (0.126 sec)\n",
      "INFO:tensorflow:global_step/sec: 765.292\n",
      "INFO:tensorflow:loss = 124403620000.0, step = 7401 (0.131 sec)\n"
     ]
    },
    {
     "name": "stdout",
     "output_type": "stream",
     "text": [
      "INFO:tensorflow:global_step/sec: 742.689\n",
      "INFO:tensorflow:loss = 30974446000.0, step = 7501 (0.134 sec)\n",
      "INFO:tensorflow:global_step/sec: 771.076\n",
      "INFO:tensorflow:loss = 82023100000.0, step = 7601 (0.130 sec)\n",
      "INFO:tensorflow:global_step/sec: 777.323\n",
      "INFO:tensorflow:loss = 99791040000.0, step = 7701 (0.131 sec)\n",
      "INFO:tensorflow:global_step/sec: 771.142\n",
      "INFO:tensorflow:loss = 84104160000.0, step = 7801 (0.129 sec)\n",
      "INFO:tensorflow:global_step/sec: 771.426\n",
      "INFO:tensorflow:loss = 158704780000.0, step = 7901 (0.130 sec)\n",
      "INFO:tensorflow:global_step/sec: 754.857\n",
      "INFO:tensorflow:loss = 67994857000.0, step = 8001 (0.130 sec)\n",
      "INFO:tensorflow:global_step/sec: 753.841\n",
      "INFO:tensorflow:loss = 309553040000.0, step = 8101 (0.132 sec)\n",
      "INFO:tensorflow:global_step/sec: 783.275\n",
      "INFO:tensorflow:loss = 24144220000.0, step = 8201 (0.131 sec)\n",
      "INFO:tensorflow:global_step/sec: 753.997\n",
      "INFO:tensorflow:loss = 61160268000.0, step = 8301 (0.132 sec)\n",
      "INFO:tensorflow:global_step/sec: 765.237\n",
      "INFO:tensorflow:loss = 201507060000.0, step = 8401 (0.130 sec)\n",
      "INFO:tensorflow:global_step/sec: 748.253\n",
      "INFO:tensorflow:loss = 108093620000.0, step = 8501 (0.134 sec)\n",
      "INFO:tensorflow:global_step/sec: 783.519\n",
      "INFO:tensorflow:loss = 163011130000.0, step = 8601 (0.129 sec)\n",
      "INFO:tensorflow:global_step/sec: 753.719\n",
      "INFO:tensorflow:loss = 45712460000.0, step = 8701 (0.133 sec)\n",
      "INFO:tensorflow:global_step/sec: 774.703\n",
      "INFO:tensorflow:loss = 56200487000.0, step = 8801 (0.130 sec)\n",
      "INFO:tensorflow:global_step/sec: 765.397\n",
      "INFO:tensorflow:loss = 78804320000.0, step = 8901 (0.131 sec)\n",
      "INFO:tensorflow:global_step/sec: 731.88\n",
      "INFO:tensorflow:loss = 92729160000.0, step = 9001 (0.134 sec)\n",
      "INFO:tensorflow:global_step/sec: 765.257\n",
      "INFO:tensorflow:loss = 70019424000.0, step = 9101 (0.134 sec)\n",
      "INFO:tensorflow:global_step/sec: 737.26\n",
      "INFO:tensorflow:loss = 81016670000.0, step = 9201 (0.133 sec)\n",
      "INFO:tensorflow:global_step/sec: 783.325\n",
      "INFO:tensorflow:loss = 80323380000.0, step = 9301 (0.131 sec)\n",
      "INFO:tensorflow:global_step/sec: 731.879\n",
      "INFO:tensorflow:loss = 172375050000.0, step = 9401 (0.134 sec)\n",
      "INFO:tensorflow:global_step/sec: 765.475\n",
      "INFO:tensorflow:loss = 63818480000.0, step = 9501 (0.132 sec)\n",
      "INFO:tensorflow:global_step/sec: 777.346\n",
      "INFO:tensorflow:loss = 53259543000.0, step = 9601 (0.130 sec)\n",
      "INFO:tensorflow:global_step/sec: 759.457\n",
      "INFO:tensorflow:loss = 30129975000.0, step = 9701 (0.132 sec)\n",
      "INFO:tensorflow:global_step/sec: 795.805\n",
      "INFO:tensorflow:loss = 138153380000.0, step = 9801 (0.127 sec)\n",
      "INFO:tensorflow:global_step/sec: 742.706\n",
      "INFO:tensorflow:loss = 90477870000.0, step = 9901 (0.137 sec)\n",
      "INFO:tensorflow:global_step/sec: 736.198\n",
      "INFO:tensorflow:loss = 75640490000.0, step = 10001 (0.132 sec)\n",
      "INFO:tensorflow:global_step/sec: 759.461\n",
      "INFO:tensorflow:loss = 126329600000.0, step = 10101 (0.131 sec)\n",
      "INFO:tensorflow:global_step/sec: 759.745\n",
      "INFO:tensorflow:loss = 56278630000.0, step = 10201 (0.133 sec)\n",
      "INFO:tensorflow:global_step/sec: 759.594\n",
      "INFO:tensorflow:loss = 82754650000.0, step = 10301 (0.132 sec)\n",
      "INFO:tensorflow:global_step/sec: 759.601\n",
      "INFO:tensorflow:loss = 97810720000.0, step = 10401 (0.133 sec)\n",
      "INFO:tensorflow:global_step/sec: 748.265\n",
      "INFO:tensorflow:loss = 81077680000.0, step = 10501 (0.134 sec)\n",
      "INFO:tensorflow:global_step/sec: 783.165\n",
      "INFO:tensorflow:loss = 164273100000.0, step = 10601 (0.127 sec)\n",
      "INFO:tensorflow:global_step/sec: 737.411\n",
      "INFO:tensorflow:loss = 97825480000.0, step = 10701 (0.135 sec)\n",
      "INFO:tensorflow:global_step/sec: 801.797\n",
      "INFO:tensorflow:loss = 56186580000.0, step = 10801 (0.128 sec)\n",
      "INFO:tensorflow:global_step/sec: 753.889\n",
      "INFO:tensorflow:loss = 123255370000.0, step = 10901 (0.133 sec)\n",
      "INFO:tensorflow:global_step/sec: 771.168\n",
      "INFO:tensorflow:loss = 87405800000.0, step = 11001 (0.128 sec)\n",
      "INFO:tensorflow:global_step/sec: 754.005\n",
      "INFO:tensorflow:loss = 128646020000.0, step = 11101 (0.132 sec)\n",
      "INFO:tensorflow:global_step/sec: 795.773\n",
      "INFO:tensorflow:loss = 144417400000.0, step = 11201 (0.130 sec)\n",
      "INFO:tensorflow:global_step/sec: 677.445\n",
      "INFO:tensorflow:loss = 115502130000.0, step = 11301 (0.145 sec)\n",
      "INFO:tensorflow:global_step/sec: 828.707\n",
      "INFO:tensorflow:loss = 90718044000.0, step = 11401 (0.123 sec)\n",
      "INFO:tensorflow:global_step/sec: 753.884\n",
      "INFO:tensorflow:loss = 88479180000.0, step = 11501 (0.133 sec)\n",
      "INFO:tensorflow:global_step/sec: 742.728\n",
      "INFO:tensorflow:loss = 85249950000.0, step = 11601 (0.135 sec)\n",
      "INFO:tensorflow:global_step/sec: 770.952\n",
      "INFO:tensorflow:loss = 36392000000.0, step = 11701 (0.129 sec)\n",
      "INFO:tensorflow:global_step/sec: 759.458\n",
      "INFO:tensorflow:loss = 76066770000.0, step = 11801 (0.134 sec)\n",
      "INFO:tensorflow:global_step/sec: 748.61\n",
      "INFO:tensorflow:loss = 49722753000.0, step = 11901 (0.131 sec)\n",
      "INFO:tensorflow:global_step/sec: 789.351\n",
      "INFO:tensorflow:loss = 48970002000.0, step = 12001 (0.130 sec)\n",
      "INFO:tensorflow:global_step/sec: 748.396\n",
      "INFO:tensorflow:loss = 164914320000.0, step = 12101 (0.132 sec)\n",
      "INFO:tensorflow:global_step/sec: 743.071\n",
      "INFO:tensorflow:loss = 20222200000.0, step = 12201 (0.134 sec)\n",
      "INFO:tensorflow:global_step/sec: 790.82\n",
      "INFO:tensorflow:loss = 95173540000.0, step = 12301 (0.128 sec)\n",
      "INFO:tensorflow:global_step/sec: 758.178\n",
      "INFO:tensorflow:loss = 84589404000.0, step = 12401 (0.130 sec)\n",
      "INFO:tensorflow:global_step/sec: 795.774\n",
      "INFO:tensorflow:loss = 68534886000.0, step = 12501 (0.127 sec)\n",
      "INFO:tensorflow:global_step/sec: 759.597\n",
      "INFO:tensorflow:loss = 195281850000.0, step = 12601 (0.133 sec)\n",
      "INFO:tensorflow:global_step/sec: 783.338\n",
      "INFO:tensorflow:loss = 240637590000.0, step = 12701 (0.127 sec)\n",
      "INFO:tensorflow:global_step/sec: 783.161\n",
      "INFO:tensorflow:loss = 92521890000.0, step = 12801 (0.127 sec)\n",
      "INFO:tensorflow:global_step/sec: 765.568\n",
      "INFO:tensorflow:loss = 104578810000.0, step = 12901 (0.131 sec)\n",
      "INFO:tensorflow:global_step/sec: 771.144\n",
      "INFO:tensorflow:loss = 58245505000.0, step = 13001 (0.130 sec)\n",
      "INFO:tensorflow:global_step/sec: 765.401\n",
      "INFO:tensorflow:loss = 130438760000.0, step = 13101 (0.132 sec)\n",
      "INFO:tensorflow:global_step/sec: 754.023\n",
      "INFO:tensorflow:loss = 67879380000.0, step = 13201 (0.134 sec)\n",
      "INFO:tensorflow:global_step/sec: 748.268\n",
      "INFO:tensorflow:loss = 24979653000.0, step = 13301 (0.133 sec)\n",
      "INFO:tensorflow:global_step/sec: 759.488\n",
      "INFO:tensorflow:loss = 126056810000.0, step = 13401 (0.132 sec)\n",
      "INFO:tensorflow:global_step/sec: 765.364\n",
      "INFO:tensorflow:loss = 75371364000.0, step = 13501 (0.130 sec)\n",
      "INFO:tensorflow:global_step/sec: 783.493\n",
      "INFO:tensorflow:loss = 135213390000.0, step = 13601 (0.130 sec)\n",
      "INFO:tensorflow:global_step/sec: 771.281\n",
      "INFO:tensorflow:loss = 110342700000.0, step = 13701 (0.131 sec)\n",
      "INFO:tensorflow:global_step/sec: 753.784\n",
      "INFO:tensorflow:loss = 145071180000.0, step = 13801 (0.131 sec)\n",
      "INFO:tensorflow:global_step/sec: 765.511\n",
      "INFO:tensorflow:loss = 133804580000.0, step = 13901 (0.132 sec)\n",
      "INFO:tensorflow:global_step/sec: 765.395\n",
      "INFO:tensorflow:loss = 44724257000.0, step = 14001 (0.131 sec)\n",
      "INFO:tensorflow:global_step/sec: 737.254\n",
      "INFO:tensorflow:loss = 63449465000.0, step = 14101 (0.134 sec)\n",
      "INFO:tensorflow:global_step/sec: 771.292\n",
      "INFO:tensorflow:loss = 30671747000.0, step = 14201 (0.131 sec)\n",
      "INFO:tensorflow:global_step/sec: 777.261\n",
      "INFO:tensorflow:loss = 77986230000.0, step = 14301 (0.127 sec)\n",
      "INFO:tensorflow:global_step/sec: 759.611\n",
      "INFO:tensorflow:loss = 52615890000.0, step = 14401 (0.134 sec)\n",
      "INFO:tensorflow:global_step/sec: 748.124\n",
      "INFO:tensorflow:loss = 22558075000.0, step = 14501 (0.135 sec)\n",
      "INFO:tensorflow:global_step/sec: 783.489\n",
      "INFO:tensorflow:loss = 201136470000.0, step = 14601 (0.127 sec)\n",
      "INFO:tensorflow:global_step/sec: 795.77\n",
      "INFO:tensorflow:loss = 164730980000.0, step = 14701 (0.125 sec)\n",
      "INFO:tensorflow:global_step/sec: 783.338\n",
      "INFO:tensorflow:loss = 122058650000.0, step = 14801 (0.129 sec)\n",
      "INFO:tensorflow:global_step/sec: 737.258\n",
      "INFO:tensorflow:loss = 142614050000.0, step = 14901 (0.136 sec)\n",
      "INFO:tensorflow:global_step/sec: 742.724\n",
      "INFO:tensorflow:loss = 99741920000.0, step = 15001 (0.133 sec)\n",
      "INFO:tensorflow:global_step/sec: 765.258\n",
      "INFO:tensorflow:loss = 130031020000.0, step = 15101 (0.132 sec)\n",
      "INFO:tensorflow:global_step/sec: 802.136\n",
      "INFO:tensorflow:loss = 118185190000.0, step = 15201 (0.127 sec)\n",
      "INFO:tensorflow:global_step/sec: 765.542\n",
      "INFO:tensorflow:loss = 119360620000.0, step = 15301 (0.129 sec)\n"
     ]
    },
    {
     "name": "stdout",
     "output_type": "stream",
     "text": [
      "INFO:tensorflow:global_step/sec: 742.714\n",
      "INFO:tensorflow:loss = 185640670000.0, step = 15401 (0.137 sec)\n",
      "INFO:tensorflow:global_step/sec: 696.306\n",
      "INFO:tensorflow:loss = 93718160000.0, step = 15501 (0.144 sec)\n",
      "INFO:tensorflow:global_step/sec: 696.297\n",
      "INFO:tensorflow:loss = 256546780000.0, step = 15601 (0.141 sec)\n",
      "INFO:tensorflow:global_step/sec: 726.576\n",
      "INFO:tensorflow:loss = 123582560000.0, step = 15701 (0.141 sec)\n",
      "INFO:tensorflow:global_step/sec: 668.445\n",
      "INFO:tensorflow:loss = 91893514000.0, step = 15801 (0.147 sec)\n",
      "INFO:tensorflow:global_step/sec: 742.723\n",
      "INFO:tensorflow:loss = 163986740000.0, step = 15901 (0.137 sec)\n",
      "INFO:tensorflow:global_step/sec: 706.111\n",
      "INFO:tensorflow:loss = 51331875000.0, step = 16001 (0.142 sec)\n",
      "INFO:tensorflow:global_step/sec: 777.267\n",
      "INFO:tensorflow:loss = 133496440000.0, step = 16101 (0.131 sec)\n",
      "INFO:tensorflow:global_step/sec: 783.338\n",
      "INFO:tensorflow:loss = 76655570000.0, step = 16201 (0.124 sec)\n",
      "INFO:tensorflow:global_step/sec: 795.768\n",
      "INFO:tensorflow:loss = 22954967000.0, step = 16301 (0.127 sec)\n",
      "INFO:tensorflow:global_step/sec: 784\n",
      "INFO:tensorflow:loss = 101051680000.0, step = 16401 (0.128 sec)\n",
      "INFO:tensorflow:global_step/sec: 795.892\n",
      "INFO:tensorflow:loss = 113492150000.0, step = 16501 (0.127 sec)\n",
      "INFO:tensorflow:global_step/sec: 771.29\n",
      "INFO:tensorflow:loss = 92906670000.0, step = 16601 (0.131 sec)\n",
      "INFO:tensorflow:global_step/sec: 795.768\n",
      "INFO:tensorflow:loss = 131956000000.0, step = 16701 (0.126 sec)\n",
      "INFO:tensorflow:global_step/sec: 759.598\n",
      "INFO:tensorflow:loss = 77875400000.0, step = 16801 (0.130 sec)\n",
      "INFO:tensorflow:global_step/sec: 771.21\n",
      "INFO:tensorflow:loss = 48692970000.0, step = 16901 (0.129 sec)\n",
      "INFO:tensorflow:global_step/sec: 777.346\n",
      "INFO:tensorflow:loss = 144772190000.0, step = 17001 (0.130 sec)\n",
      "INFO:tensorflow:global_step/sec: 808.603\n",
      "INFO:tensorflow:loss = 76026950000.0, step = 17101 (0.126 sec)\n",
      "INFO:tensorflow:global_step/sec: 777.264\n",
      "INFO:tensorflow:loss = 95156280000.0, step = 17201 (0.129 sec)\n",
      "INFO:tensorflow:global_step/sec: 771.165\n",
      "INFO:tensorflow:loss = 163296870000.0, step = 17301 (0.130 sec)\n",
      "INFO:tensorflow:global_step/sec: 783.464\n",
      "INFO:tensorflow:loss = 172921160000.0, step = 17401 (0.126 sec)\n",
      "INFO:tensorflow:global_step/sec: 783.341\n",
      "INFO:tensorflow:loss = 91408654000.0, step = 17501 (0.129 sec)\n",
      "INFO:tensorflow:global_step/sec: 759.602\n",
      "INFO:tensorflow:loss = 104992690000.0, step = 17601 (0.131 sec)\n",
      "INFO:tensorflow:global_step/sec: 815.053\n",
      "INFO:tensorflow:loss = 153669270000.0, step = 17701 (0.123 sec)\n",
      "INFO:tensorflow:global_step/sec: 802.087\n",
      "INFO:tensorflow:loss = 155811050000.0, step = 17801 (0.126 sec)\n",
      "INFO:tensorflow:global_step/sec: 765.557\n",
      "INFO:tensorflow:loss = 151806330000.0, step = 17901 (0.130 sec)\n",
      "INFO:tensorflow:global_step/sec: 777.267\n",
      "INFO:tensorflow:loss = 116145990000.0, step = 18001 (0.132 sec)\n",
      "INFO:tensorflow:global_step/sec: 748.117\n",
      "INFO:tensorflow:loss = 75650090000.0, step = 18101 (0.131 sec)\n",
      "INFO:tensorflow:global_step/sec: 783.418\n",
      "INFO:tensorflow:loss = 66245580000.0, step = 18201 (0.129 sec)\n",
      "INFO:tensorflow:global_step/sec: 748.199\n",
      "INFO:tensorflow:loss = 104289616000.0, step = 18301 (0.135 sec)\n",
      "INFO:tensorflow:global_step/sec: 759.726\n",
      "INFO:tensorflow:loss = 159188810000.0, step = 18401 (0.130 sec)\n",
      "INFO:tensorflow:global_step/sec: 753.601\n",
      "INFO:tensorflow:loss = 102843154000.0, step = 18501 (0.132 sec)\n",
      "INFO:tensorflow:global_step/sec: 835.567\n",
      "INFO:tensorflow:loss = 44166644000.0, step = 18601 (0.124 sec)\n",
      "INFO:tensorflow:global_step/sec: 765.402\n",
      "INFO:tensorflow:loss = 152408380000.0, step = 18701 (0.130 sec)\n",
      "INFO:tensorflow:global_step/sec: 759.598\n",
      "INFO:tensorflow:loss = 187145980000.0, step = 18801 (0.129 sec)\n",
      "INFO:tensorflow:global_step/sec: 771.137\n",
      "INFO:tensorflow:loss = 62305386000.0, step = 18901 (0.131 sec)\n",
      "INFO:tensorflow:global_step/sec: 789.515\n",
      "INFO:tensorflow:loss = 155290440000.0, step = 19001 (0.130 sec)\n",
      "INFO:tensorflow:global_step/sec: 748.384\n",
      "INFO:tensorflow:loss = 94060920000.0, step = 19101 (0.131 sec)\n",
      "INFO:tensorflow:global_step/sec: 815.199\n",
      "INFO:tensorflow:loss = 34043329000.0, step = 19201 (0.124 sec)\n",
      "INFO:tensorflow:global_step/sec: 759.593\n",
      "INFO:tensorflow:loss = 97736606000.0, step = 19301 (0.132 sec)\n",
      "INFO:tensorflow:global_step/sec: 759.452\n",
      "INFO:tensorflow:loss = 120922325000.0, step = 19401 (0.132 sec)\n",
      "INFO:tensorflow:global_step/sec: 771.443\n",
      "INFO:tensorflow:loss = 55276077000.0, step = 19501 (0.130 sec)\n",
      "INFO:tensorflow:global_step/sec: 795.777\n",
      "INFO:tensorflow:loss = 227013310000.0, step = 19601 (0.125 sec)\n",
      "INFO:tensorflow:global_step/sec: 765.232\n",
      "INFO:tensorflow:loss = 182669280000.0, step = 19701 (0.133 sec)\n",
      "INFO:tensorflow:global_step/sec: 759.765\n",
      "INFO:tensorflow:loss = 96361640000.0, step = 19801 (0.132 sec)\n",
      "INFO:tensorflow:global_step/sec: 742.72\n",
      "INFO:tensorflow:loss = 154761230000.0, step = 19901 (0.133 sec)\n",
      "INFO:tensorflow:global_step/sec: 777.264\n",
      "INFO:tensorflow:loss = 97666860000.0, step = 20001 (0.130 sec)\n",
      "INFO:tensorflow:global_step/sec: 737.124\n",
      "INFO:tensorflow:loss = 60196045000.0, step = 20101 (0.134 sec)\n",
      "INFO:tensorflow:global_step/sec: 765.54\n",
      "INFO:tensorflow:loss = 57286152000.0, step = 20201 (0.131 sec)\n",
      "INFO:tensorflow:global_step/sec: 765.401\n",
      "INFO:tensorflow:loss = 73009010000.0, step = 20301 (0.133 sec)\n",
      "INFO:tensorflow:global_step/sec: 759.604\n",
      "INFO:tensorflow:loss = 131574530000.0, step = 20401 (0.130 sec)\n",
      "INFO:tensorflow:global_step/sec: 748.263\n",
      "INFO:tensorflow:loss = 190688660000.0, step = 20501 (0.135 sec)\n",
      "INFO:tensorflow:global_step/sec: 795.77\n",
      "INFO:tensorflow:loss = 79208440000.0, step = 20601 (0.128 sec)\n",
      "INFO:tensorflow:global_step/sec: 742.723\n",
      "INFO:tensorflow:loss = 205523910000.0, step = 20701 (0.132 sec)\n",
      "INFO:tensorflow:global_step/sec: 777.114\n",
      "INFO:tensorflow:loss = 95892360000.0, step = 20801 (0.130 sec)\n",
      "INFO:tensorflow:global_step/sec: 783.35\n",
      "INFO:tensorflow:loss = 71327480000.0, step = 20901 (0.129 sec)\n",
      "INFO:tensorflow:global_step/sec: 753.882\n",
      "INFO:tensorflow:loss = 102463070000.0, step = 21001 (0.131 sec)\n",
      "INFO:tensorflow:global_step/sec: 789.436\n",
      "INFO:tensorflow:loss = 93824420000.0, step = 21101 (0.128 sec)\n",
      "INFO:tensorflow:global_step/sec: 765.573\n",
      "INFO:tensorflow:loss = 57617752000.0, step = 21201 (0.131 sec)\n",
      "INFO:tensorflow:global_step/sec: 759.635\n",
      "INFO:tensorflow:loss = 86595985000.0, step = 21301 (0.131 sec)\n",
      "INFO:tensorflow:global_step/sec: 789.506\n",
      "INFO:tensorflow:loss = 101415240000.0, step = 21401 (0.129 sec)\n",
      "INFO:tensorflow:global_step/sec: 771.117\n",
      "INFO:tensorflow:loss = 125070130000.0, step = 21501 (0.132 sec)\n",
      "INFO:tensorflow:global_step/sec: 759.762\n",
      "INFO:tensorflow:loss = 97698900000.0, step = 21601 (0.128 sec)\n",
      "INFO:tensorflow:global_step/sec: 771.911\n",
      "INFO:tensorflow:loss = 70027920000.0, step = 21701 (0.131 sec)\n",
      "INFO:tensorflow:global_step/sec: 759.608\n",
      "INFO:tensorflow:loss = 240319280000.0, step = 21801 (0.131 sec)\n",
      "INFO:tensorflow:global_step/sec: 789.354\n",
      "INFO:tensorflow:loss = 58563293000.0, step = 21901 (0.130 sec)\n",
      "INFO:tensorflow:global_step/sec: 802.285\n",
      "INFO:tensorflow:loss = 108636910000.0, step = 22001 (0.126 sec)\n",
      "INFO:tensorflow:global_step/sec: 725.514\n",
      "INFO:tensorflow:loss = 116474070000.0, step = 22101 (0.135 sec)\n",
      "INFO:tensorflow:global_step/sec: 777.104\n",
      "INFO:tensorflow:loss = 70662595000.0, step = 22201 (0.130 sec)\n",
      "INFO:tensorflow:global_step/sec: 777.426\n",
      "INFO:tensorflow:loss = 78999500000.0, step = 22301 (0.128 sec)\n",
      "INFO:tensorflow:global_step/sec: 777.266\n",
      "INFO:tensorflow:loss = 72993050000.0, step = 22401 (0.131 sec)\n",
      "INFO:tensorflow:global_step/sec: 743.104\n",
      "INFO:tensorflow:loss = 185041810000.0, step = 22501 (0.132 sec)\n",
      "INFO:tensorflow:global_step/sec: 796.436\n",
      "INFO:tensorflow:loss = 252524890000.0, step = 22601 (0.127 sec)\n",
      "INFO:tensorflow:global_step/sec: 771.395\n",
      "INFO:tensorflow:loss = 127320800000.0, step = 22701 (0.131 sec)\n",
      "INFO:tensorflow:global_step/sec: 759.602\n",
      "INFO:tensorflow:loss = 108862415000.0, step = 22801 (0.130 sec)\n",
      "INFO:tensorflow:global_step/sec: 765.261\n",
      "INFO:tensorflow:loss = 97307010000.0, step = 22901 (0.132 sec)\n",
      "INFO:tensorflow:global_step/sec: 777.266\n",
      "INFO:tensorflow:loss = 80310650000.0, step = 23001 (0.129 sec)\n",
      "INFO:tensorflow:global_step/sec: 783.338\n",
      "INFO:tensorflow:loss = 189706980000.0, step = 23101 (0.130 sec)\n",
      "INFO:tensorflow:global_step/sec: 714.476\n",
      "INFO:tensorflow:loss = 38438543000.0, step = 23201 (0.137 sec)\n"
     ]
    },
    {
     "name": "stdout",
     "output_type": "stream",
     "text": [
      "INFO:tensorflow:global_step/sec: 795.789\n",
      "INFO:tensorflow:loss = 92136620000.0, step = 23301 (0.130 sec)\n",
      "INFO:tensorflow:global_step/sec: 770.956\n",
      "INFO:tensorflow:loss = 47862424000.0, step = 23401 (0.129 sec)\n",
      "INFO:tensorflow:global_step/sec: 777.26\n",
      "INFO:tensorflow:loss = 82939140000.0, step = 23501 (0.129 sec)\n",
      "INFO:tensorflow:global_step/sec: 711.121\n",
      "INFO:tensorflow:loss = 42013655000.0, step = 23601 (0.139 sec)\n",
      "INFO:tensorflow:global_step/sec: 686.875\n",
      "INFO:tensorflow:loss = 121917340000.0, step = 23701 (0.150 sec)\n",
      "INFO:tensorflow:global_step/sec: 618.935\n",
      "INFO:tensorflow:loss = 140002410000.0, step = 23801 (0.158 sec)\n",
      "INFO:tensorflow:global_step/sec: 721.346\n",
      "INFO:tensorflow:loss = 121442310000.0, step = 23901 (0.140 sec)\n",
      "INFO:tensorflow:global_step/sec: 731.758\n",
      "INFO:tensorflow:loss = 31078785000.0, step = 24001 (0.135 sec)\n",
      "INFO:tensorflow:global_step/sec: 789.471\n",
      "INFO:tensorflow:loss = 71251440000.0, step = 24101 (0.130 sec)\n",
      "INFO:tensorflow:global_step/sec: 737.412\n",
      "INFO:tensorflow:loss = 135184410000.0, step = 24201 (0.135 sec)\n",
      "INFO:tensorflow:global_step/sec: 721.348\n",
      "INFO:tensorflow:loss = 117194375000.0, step = 24301 (0.140 sec)\n",
      "INFO:tensorflow:global_step/sec: 701.171\n",
      "INFO:tensorflow:loss = 170299420000.0, step = 24401 (0.140 sec)\n",
      "INFO:tensorflow:global_step/sec: 726.573\n",
      "INFO:tensorflow:loss = 52798235000.0, step = 24501 (0.138 sec)\n",
      "INFO:tensorflow:global_step/sec: 731.773\n",
      "INFO:tensorflow:loss = 92545030000.0, step = 24601 (0.140 sec)\n",
      "INFO:tensorflow:global_step/sec: 701.141\n",
      "INFO:tensorflow:loss = 186570570000.0, step = 24701 (0.140 sec)\n",
      "INFO:tensorflow:global_step/sec: 739.958\n",
      "INFO:tensorflow:loss = 96385335000.0, step = 24801 (0.137 sec)\n",
      "INFO:tensorflow:global_step/sec: 705.969\n",
      "INFO:tensorflow:loss = 108963870000.0, step = 24901 (0.143 sec)\n",
      "INFO:tensorflow:Calling checkpoint listeners before saving checkpoint 25000...\n",
      "INFO:tensorflow:Saving checkpoints for 25000 into C:\\Users\\ULTIMA~1\\AppData\\Local\\Temp\\tmpe5uf8_0z\\model.ckpt.\n",
      "INFO:tensorflow:Calling checkpoint listeners after saving checkpoint 25000...\n",
      "INFO:tensorflow:Loss for final step: 82251660000.0.\n"
     ]
    },
    {
     "data": {
      "text/plain": [
       "<tensorflow_estimator.python.estimator.canned.dnn.DNNRegressor at 0x19821448190>"
      ]
     },
     "execution_count": 91,
     "metadata": {},
     "output_type": "execute_result"
    }
   ],
   "source": [
    "model.train(input_fn=input_func, steps=25000)"
   ]
  },
  {
   "cell_type": "markdown",
   "metadata": {},
   "source": [
    "** Create a prediction input function and then use the .predict method off your estimator model to create a list or predictions on your test data. **"
   ]
  },
  {
   "cell_type": "code",
   "execution_count": 92,
   "metadata": {},
   "outputs": [],
   "source": [
    "predict_func=tf.estimator.inputs.pandas_input_fn(\n",
    "      x=X_test,\n",
    "      batch_size=10,\n",
    "      num_epochs=1,\n",
    "      shuffle=False)"
   ]
  },
  {
   "cell_type": "code",
   "execution_count": 93,
   "metadata": {},
   "outputs": [],
   "source": [
    "predict_gen =model.predict(predict_func)"
   ]
  },
  {
   "cell_type": "code",
   "execution_count": 94,
   "metadata": {},
   "outputs": [
    {
     "name": "stdout",
     "output_type": "stream",
     "text": [
      "INFO:tensorflow:Calling model_fn.\n",
      "INFO:tensorflow:Done calling model_fn.\n",
      "INFO:tensorflow:Graph was finalized.\n",
      "INFO:tensorflow:Restoring parameters from C:\\Users\\ULTIMA~1\\AppData\\Local\\Temp\\tmpe5uf8_0z\\model.ckpt-25000\n",
      "INFO:tensorflow:Running local_init_op.\n",
      "INFO:tensorflow:Done running local_init_op.\n"
     ]
    }
   ],
   "source": [
    "prediction = list(predict_gen)"
   ]
  },
  {
   "cell_type": "markdown",
   "metadata": {},
   "source": [
    "** Calculate the RMSE. You should be able to get around 100,000 RMSE (remember that this is in the same units as the label.) Do this manually or use [sklearn.metrics](http://scikit-learn.org/stable/modules/generated/sklearn.metrics.mean_squared_error.html) **"
   ]
  },
  {
   "cell_type": "code",
   "execution_count": 95,
   "metadata": {},
   "outputs": [],
   "source": [
    "final_preds = []\n",
    "for pred in prediction:\n",
    "    final_preds.append(pred['predictions'])"
   ]
  },
  {
   "cell_type": "code",
   "execution_count": 96,
   "metadata": {},
   "outputs": [],
   "source": [
    "from sklearn.metrics import mean_squared_error"
   ]
  },
  {
   "cell_type": "code",
   "execution_count": 97,
   "metadata": {},
   "outputs": [
    {
     "data": {
      "text/plain": [
       "99121.78211263639"
      ]
     },
     "execution_count": 97,
     "metadata": {},
     "output_type": "execute_result"
    }
   ],
   "source": [
    "mean_squared_error(y_test,final_preds)**0.5"
   ]
  },
  {
   "cell_type": "code",
   "execution_count": null,
   "metadata": {},
   "outputs": [],
   "source": []
  },
  {
   "cell_type": "markdown",
   "metadata": {},
   "source": [
    "# Great Job!"
   ]
  }
 ],
 "metadata": {
  "kernelspec": {
   "display_name": "Python 3",
   "language": "python",
   "name": "python3"
  },
  "language_info": {
   "codemirror_mode": {
    "name": "ipython",
    "version": 3
   },
   "file_extension": ".py",
   "mimetype": "text/x-python",
   "name": "python",
   "nbconvert_exporter": "python",
   "pygments_lexer": "ipython3",
   "version": "3.8.8"
  }
 },
 "nbformat": 4,
 "nbformat_minor": 2
}
