{
 "cells": [
  {
   "cell_type": "code",
   "execution_count": 1,
   "id": "6e005e0a",
   "metadata": {},
   "outputs": [],
   "source": [
    "import os\n",
    "import pandas as pd\n",
    "import numpy as np\n",
    "import seaborn as sns\n",
    "import matplotlib.pyplot as plt\n",
    "from matplotlib.image import imread\n"
   ]
  },
  {
   "cell_type": "code",
   "execution_count": 18,
   "id": "498f42b9",
   "metadata": {},
   "outputs": [],
   "source": [
    "#dowload the data and add the path\n",
    "my_data_dir = 'C:\\\\Users\\\\Ultimatrix\\\\Downloads\\\\TF_2_Notebooks_and_Data\\\\04-CNNs\\\\cell_images'"
   ]
  },
  {
   "cell_type": "code",
   "execution_count": 19,
   "id": "759e05a7",
   "metadata": {},
   "outputs": [
    {
     "data": {
      "text/plain": [
       "['test', 'train']"
      ]
     },
     "execution_count": 19,
     "metadata": {},
     "output_type": "execute_result"
    }
   ],
   "source": [
    "os.listdir(my_data_dir) "
   ]
  },
  {
   "cell_type": "code",
   "execution_count": 20,
   "id": "7c603752",
   "metadata": {},
   "outputs": [],
   "source": [
    "test_path = my_data_dir+'\\\\test\\\\'\n",
    "train_path = my_data_dir+'\\\\train\\\\'"
   ]
  },
  {
   "cell_type": "code",
   "execution_count": 21,
   "id": "61ebf6d3",
   "metadata": {},
   "outputs": [
    {
     "data": {
      "text/plain": [
       "['parasitized', 'uninfected']"
      ]
     },
     "execution_count": 21,
     "metadata": {},
     "output_type": "execute_result"
    }
   ],
   "source": [
    "os.listdir(test_path)"
   ]
  },
  {
   "cell_type": "code",
   "execution_count": 22,
   "id": "157aab56",
   "metadata": {},
   "outputs": [
    {
     "data": {
      "text/plain": [
       "['parasitized', 'uninfected']"
      ]
     },
     "execution_count": 22,
     "metadata": {},
     "output_type": "execute_result"
    }
   ],
   "source": [
    "os.listdir(train_path)"
   ]
  },
  {
   "cell_type": "code",
   "execution_count": 27,
   "id": "dd2876a3",
   "metadata": {},
   "outputs": [
    {
     "data": {
      "text/plain": [
       "['C100P61ThinF_IMG_20150918_144104_cell_162.png',\n",
       " 'C100P61ThinF_IMG_20150918_144104_cell_163.png',\n",
       " 'C100P61ThinF_IMG_20150918_144104_cell_164.png',\n",
       " 'C100P61ThinF_IMG_20150918_144104_cell_165.png',\n",
       " 'C100P61ThinF_IMG_20150918_144104_cell_166.png',\n",
       " 'C100P61ThinF_IMG_20150918_144104_cell_167.png',\n",
       " 'C100P61ThinF_IMG_20150918_144104_cell_168.png',\n",
       " 'C100P61ThinF_IMG_20150918_144104_cell_169.png',\n",
       " 'C100P61ThinF_IMG_20150918_144104_cell_170.png',\n",
       " 'C100P61ThinF_IMG_20150918_144104_cell_171.png',\n",
       " 'C100P61ThinF_IMG_20150918_144348_cell_138.png',\n",
       " 'C100P61ThinF_IMG_20150918_144348_cell_139.png',\n",
       " 'C100P61ThinF_IMG_20150918_144348_cell_140.png',\n",
       " 'C100P61ThinF_IMG_20150918_144348_cell_141.png',\n",
       " 'C100P61ThinF_IMG_20150918_144348_cell_142.png',\n",
       " 'C100P61ThinF_IMG_20150918_144348_cell_143.png',\n",
       " 'C100P61ThinF_IMG_20150918_144823_cell_157.png',\n",
       " 'C100P61ThinF_IMG_20150918_144823_cell_158.png',\n",
       " 'C100P61ThinF_IMG_20150918_144823_cell_159.png',\n",
       " 'C100P61ThinF_IMG_20150918_144823_cell_160.png',\n",
       " 'C100P61ThinF_IMG_20150918_144823_cell_161.png',\n",
       " 'C100P61ThinF_IMG_20150918_144823_cell_162.png',\n",
       " 'C100P61ThinF_IMG_20150918_145042_cell_162.png',\n",
       " 'C100P61ThinF_IMG_20150918_145042_cell_163.png',\n",
       " 'C100P61ThinF_IMG_20150918_145042_cell_164.png',\n",
       " 'C100P61ThinF_IMG_20150918_145042_cell_165.png',\n",
       " 'C100P61ThinF_IMG_20150918_145042_cell_166.png',\n",
       " 'C100P61ThinF_IMG_20150918_145042_cell_167.png',\n",
       " 'C100P61ThinF_IMG_20150918_145422_cell_163.png',\n",
       " 'C100P61ThinF_IMG_20150918_145422_cell_164.png',\n",
       " 'C100P61ThinF_IMG_20150918_145422_cell_166.png',\n",
       " 'C100P61ThinF_IMG_20150918_145422_cell_167.png',\n",
       " 'C100P61ThinF_IMG_20150918_145422_cell_168.png',\n",
       " 'C100P61ThinF_IMG_20150918_145422_cell_169.png',\n",
       " 'C100P61ThinF_IMG_20150918_145609_cell_144.png',\n",
       " 'C100P61ThinF_IMG_20150918_145609_cell_146.png',\n",
       " 'C100P61ThinF_IMG_20150918_145609_cell_147.png',\n",
       " 'C100P61ThinF_IMG_20150918_145609_cell_148.png',\n",
       " 'C100P61ThinF_IMG_20150918_145609_cell_151.png',\n",
       " 'C100P61ThinF_IMG_20150918_145938_cell_167.png',\n",
       " 'C100P61ThinF_IMG_20150918_145938_cell_168.png',\n",
       " 'C100P61ThinF_IMG_20150918_145938_cell_169.png',\n",
       " 'C100P61ThinF_IMG_20150918_145938_cell_170.png',\n",
       " 'C100P61ThinF_IMG_20150918_145938_cell_171.png',\n",
       " 'C100P61ThinF_IMG_20150918_145938_cell_172.png',\n",
       " 'C100P61ThinF_IMG_20150918_145938_cell_173.png',\n",
       " 'C100P61ThinF_IMG_20150918_145938_cell_174.png',\n",
       " 'C100P61ThinF_IMG_20150918_150041_cell_146.png',\n",
       " 'C100P61ThinF_IMG_20150918_150041_cell_147.png',\n",
       " 'C100P61ThinF_IMG_20150918_150041_cell_149.png',\n",
       " 'C101P62ThinF_IMG_20150918_151006_cell_61.png',\n",
       " 'C101P62ThinF_IMG_20150918_151006_cell_62.png',\n",
       " 'C101P62ThinF_IMG_20150918_151006_cell_63.png',\n",
       " 'C101P62ThinF_IMG_20150918_151006_cell_65.png',\n",
       " 'C101P62ThinF_IMG_20150918_151006_cell_66.png',\n",
       " 'C101P62ThinF_IMG_20150918_151006_cell_67.png',\n",
       " 'C101P62ThinF_IMG_20150918_151006_cell_68.png',\n",
       " 'C101P62ThinF_IMG_20150918_151006_cell_69.png',\n",
       " 'C101P62ThinF_IMG_20150918_151006_cell_70.png',\n",
       " 'C101P62ThinF_IMG_20150918_151006_cell_71.png',\n",
       " 'C101P62ThinF_IMG_20150918_151006_cell_72.png',\n",
       " 'C101P62ThinF_IMG_20150918_151006_cell_73.png',\n",
       " 'C101P62ThinF_IMG_20150918_151006_cell_74.png',\n",
       " 'C101P62ThinF_IMG_20150918_151006_cell_75.png',\n",
       " 'C101P62ThinF_IMG_20150918_151006_cell_76.png',\n",
       " 'C101P62ThinF_IMG_20150918_151006_cell_77.png',\n",
       " 'C101P62ThinF_IMG_20150918_151006_cell_78.png',\n",
       " 'C101P62ThinF_IMG_20150918_151006_cell_79.png',\n",
       " 'C101P62ThinF_IMG_20150918_151006_cell_80.png',\n",
       " 'C101P62ThinF_IMG_20150918_151006_cell_81.png',\n",
       " 'C101P62ThinF_IMG_20150918_151006_cell_82.png',\n",
       " 'C101P62ThinF_IMG_20150918_151006_cell_83.png',\n",
       " 'C101P62ThinF_IMG_20150918_151006_cell_84.png',\n",
       " 'C101P62ThinF_IMG_20150918_151006_cell_85.png',\n",
       " 'C101P62ThinF_IMG_20150918_151006_cell_86.png',\n",
       " 'C101P62ThinF_IMG_20150918_151149_cell_68.png',\n",
       " 'C101P62ThinF_IMG_20150918_151149_cell_69.png',\n",
       " 'C101P62ThinF_IMG_20150918_151149_cell_70.png',\n",
       " 'C101P62ThinF_IMG_20150918_151149_cell_71.png',\n",
       " 'C101P62ThinF_IMG_20150918_151149_cell_72.png',\n",
       " 'C101P62ThinF_IMG_20150918_151149_cell_73.png',\n",
       " 'C101P62ThinF_IMG_20150918_151149_cell_74.png',\n",
       " 'C101P62ThinF_IMG_20150918_151149_cell_75.png',\n",
       " 'C101P62ThinF_IMG_20150918_151149_cell_76.png',\n",
       " 'C101P62ThinF_IMG_20150918_151149_cell_77.png',\n",
       " 'C101P62ThinF_IMG_20150918_151149_cell_78.png',\n",
       " 'C101P62ThinF_IMG_20150918_151149_cell_79.png',\n",
       " 'C101P62ThinF_IMG_20150918_151149_cell_80.png',\n",
       " 'C101P62ThinF_IMG_20150918_151149_cell_81.png',\n",
       " 'C101P62ThinF_IMG_20150918_151149_cell_82.png',\n",
       " 'C101P62ThinF_IMG_20150918_151149_cell_83.png',\n",
       " 'C101P62ThinF_IMG_20150918_151149_cell_84.png',\n",
       " 'C101P62ThinF_IMG_20150918_151149_cell_85.png',\n",
       " 'C101P62ThinF_IMG_20150918_151149_cell_86.png',\n",
       " 'C101P62ThinF_IMG_20150918_151149_cell_87.png',\n",
       " 'C101P62ThinF_IMG_20150918_151149_cell_88.png',\n",
       " 'C101P62ThinF_IMG_20150918_151239_cell_100.png',\n",
       " 'C101P62ThinF_IMG_20150918_151239_cell_74.png',\n",
       " 'C101P62ThinF_IMG_20150918_151239_cell_75.png',\n",
       " 'C101P62ThinF_IMG_20150918_151239_cell_76.png',\n",
       " 'C101P62ThinF_IMG_20150918_151239_cell_77.png',\n",
       " 'C101P62ThinF_IMG_20150918_151239_cell_78.png',\n",
       " 'C101P62ThinF_IMG_20150918_151239_cell_79.png',\n",
       " 'C101P62ThinF_IMG_20150918_151239_cell_81.png',\n",
       " 'C101P62ThinF_IMG_20150918_151239_cell_82.png',\n",
       " 'C101P62ThinF_IMG_20150918_151239_cell_83.png',\n",
       " 'C101P62ThinF_IMG_20150918_151239_cell_84.png',\n",
       " 'C101P62ThinF_IMG_20150918_151239_cell_85.png',\n",
       " 'C101P62ThinF_IMG_20150918_151239_cell_86.png',\n",
       " 'C101P62ThinF_IMG_20150918_151239_cell_87.png',\n",
       " 'C101P62ThinF_IMG_20150918_151239_cell_89.png',\n",
       " 'C101P62ThinF_IMG_20150918_151239_cell_90.png',\n",
       " 'C101P62ThinF_IMG_20150918_151239_cell_91.png',\n",
       " 'C101P62ThinF_IMG_20150918_151239_cell_92.png',\n",
       " 'C101P62ThinF_IMG_20150918_151239_cell_93.png',\n",
       " 'C101P62ThinF_IMG_20150918_151239_cell_94.png',\n",
       " 'C101P62ThinF_IMG_20150918_151239_cell_95.png',\n",
       " 'C101P62ThinF_IMG_20150918_151239_cell_96.png',\n",
       " 'C101P62ThinF_IMG_20150918_151239_cell_97.png',\n",
       " 'C101P62ThinF_IMG_20150918_151239_cell_98.png',\n",
       " 'C101P62ThinF_IMG_20150918_151335_cell_51.png',\n",
       " 'C101P62ThinF_IMG_20150918_151335_cell_52.png',\n",
       " 'C101P62ThinF_IMG_20150918_151335_cell_53.png',\n",
       " 'C101P62ThinF_IMG_20150918_151335_cell_54.png',\n",
       " 'C101P62ThinF_IMG_20150918_151335_cell_55.png',\n",
       " 'C101P62ThinF_IMG_20150918_151335_cell_56.png',\n",
       " 'C101P62ThinF_IMG_20150918_151335_cell_57.png',\n",
       " 'C101P62ThinF_IMG_20150918_151335_cell_59.png',\n",
       " 'C101P62ThinF_IMG_20150918_151335_cell_60.png',\n",
       " 'C101P62ThinF_IMG_20150918_151335_cell_61.png',\n",
       " 'C101P62ThinF_IMG_20150918_151335_cell_62.png',\n",
       " 'C101P62ThinF_IMG_20150918_151335_cell_63.png',\n",
       " 'C101P62ThinF_IMG_20150918_151335_cell_64.png',\n",
       " 'C101P62ThinF_IMG_20150918_151335_cell_65.png',\n",
       " 'C101P62ThinF_IMG_20150918_151335_cell_67.png',\n",
       " 'C101P62ThinF_IMG_20150918_151335_cell_68.png',\n",
       " 'C101P62ThinF_IMG_20150918_151335_cell_69.png',\n",
       " 'C101P62ThinF_IMG_20150918_151335_cell_70.png',\n",
       " 'C101P62ThinF_IMG_20150918_151335_cell_71.png',\n",
       " 'C101P62ThinF_IMG_20150918_151335_cell_72.png',\n",
       " 'C101P62ThinF_IMG_20150918_151335_cell_73.png',\n",
       " 'C101P62ThinF_IMG_20150918_151335_cell_74.png',\n",
       " 'C101P62ThinF_IMG_20150918_151335_cell_75.png',\n",
       " 'C101P62ThinF_IMG_20150918_151335_cell_76.png',\n",
       " 'C101P62ThinF_IMG_20150918_151335_cell_77.png',\n",
       " 'C101P62ThinF_IMG_20150918_151335_cell_78.png',\n",
       " 'C101P62ThinF_IMG_20150918_151507_cell_49.png',\n",
       " 'C101P62ThinF_IMG_20150918_151507_cell_50.png',\n",
       " 'C101P62ThinF_IMG_20150918_151507_cell_51.png',\n",
       " 'C101P62ThinF_IMG_20150918_151507_cell_52.png',\n",
       " 'C101P62ThinF_IMG_20150918_151507_cell_53.png',\n",
       " 'C101P62ThinF_IMG_20150918_151507_cell_54.png',\n",
       " 'C101P62ThinF_IMG_20150918_151507_cell_55.png',\n",
       " 'C101P62ThinF_IMG_20150918_151507_cell_56.png',\n",
       " 'C101P62ThinF_IMG_20150918_151507_cell_57.png',\n",
       " 'C101P62ThinF_IMG_20150918_151507_cell_58.png',\n",
       " 'C101P62ThinF_IMG_20150918_151507_cell_59.png',\n",
       " 'C101P62ThinF_IMG_20150918_151507_cell_61.png',\n",
       " 'C101P62ThinF_IMG_20150918_151507_cell_62.png',\n",
       " 'C101P62ThinF_IMG_20150918_151507_cell_64.png',\n",
       " 'C101P62ThinF_IMG_20150918_151507_cell_66.png',\n",
       " 'C101P62ThinF_IMG_20150918_151507_cell_67.png',\n",
       " 'C101P62ThinF_IMG_20150918_151507_cell_68.png',\n",
       " 'C101P62ThinF_IMG_20150918_151507_cell_69.png',\n",
       " 'C101P62ThinF_IMG_20150918_151507_cell_71.png',\n",
       " 'C101P62ThinF_IMG_20150918_151507_cell_72.png',\n",
       " 'C101P62ThinF_IMG_20150918_151507_cell_74.png',\n",
       " 'C101P62ThinF_IMG_20150918_151507_cell_76.png',\n",
       " 'C101P62ThinF_IMG_20150918_151507_cell_77.png',\n",
       " 'C101P62ThinF_IMG_20150918_151942_cell_58.png',\n",
       " 'C101P62ThinF_IMG_20150918_151942_cell_59.png',\n",
       " 'C101P62ThinF_IMG_20150918_151942_cell_60.png',\n",
       " 'C101P62ThinF_IMG_20150918_151942_cell_61.png',\n",
       " 'C101P62ThinF_IMG_20150918_151942_cell_62.png',\n",
       " 'C101P62ThinF_IMG_20150918_151942_cell_64.png',\n",
       " 'C101P62ThinF_IMG_20150918_151942_cell_66.png',\n",
       " 'C101P62ThinF_IMG_20150918_151942_cell_67.png',\n",
       " 'C101P62ThinF_IMG_20150918_151942_cell_68.png',\n",
       " 'C101P62ThinF_IMG_20150918_151942_cell_69.png',\n",
       " 'C101P62ThinF_IMG_20150918_151942_cell_71.png',\n",
       " 'C101P62ThinF_IMG_20150918_151942_cell_72.png',\n",
       " 'C101P62ThinF_IMG_20150918_151942_cell_73.png',\n",
       " 'C101P62ThinF_IMG_20150918_151942_cell_74.png',\n",
       " 'C101P62ThinF_IMG_20150918_151942_cell_75.png',\n",
       " 'C101P62ThinF_IMG_20150918_151942_cell_76.png',\n",
       " 'C101P62ThinF_IMG_20150918_151942_cell_77.png',\n",
       " 'C101P62ThinF_IMG_20150918_151942_cell_78.png',\n",
       " 'C101P62ThinF_IMG_20150918_151942_cell_79.png',\n",
       " 'C101P62ThinF_IMG_20150918_151942_cell_80.png',\n",
       " 'C101P62ThinF_IMG_20150918_151942_cell_81.png',\n",
       " 'C101P62ThinF_IMG_20150918_151942_cell_82.png',\n",
       " 'C101P62ThinF_IMG_20150918_151942_cell_83.png',\n",
       " 'C101P62ThinF_IMG_20150918_151942_cell_84.png',\n",
       " 'C101P62ThinF_IMG_20150918_151942_cell_85.png',\n",
       " 'C101P62ThinF_IMG_20150918_151942_cell_88.png',\n",
       " 'C101P62ThinF_IMG_20150918_151942_cell_89.png',\n",
       " 'C101P62ThinF_IMG_20150918_151942_cell_90.png',\n",
       " 'C101P62ThinF_IMG_20150918_155026_cell_1.png',\n",
       " 'C101P62ThinF_IMG_20150918_155731_cell_61.png',\n",
       " 'C101P62ThinF_IMG_20150918_155731_cell_63.png',\n",
       " 'C101P62ThinF_IMG_20150918_155731_cell_64.png',\n",
       " 'C101P62ThinF_IMG_20150918_155731_cell_65.png',\n",
       " 'C101P62ThinF_IMG_20150918_155731_cell_68.png',\n",
       " 'C101P62ThinF_IMG_20150918_155731_cell_69.png',\n",
       " 'C101P62ThinF_IMG_20150918_155731_cell_70.png',\n",
       " 'C101P62ThinF_IMG_20150918_155731_cell_71.png',\n",
       " 'C101P62ThinF_IMG_20150918_155731_cell_73.png',\n",
       " 'C101P62ThinF_IMG_20150918_155731_cell_74.png',\n",
       " 'C101P62ThinF_IMG_20150918_155731_cell_75.png',\n",
       " 'C101P62ThinF_IMG_20150918_155731_cell_76.png',\n",
       " 'C101P62ThinF_IMG_20150918_155731_cell_77.png',\n",
       " 'C101P62ThinF_IMG_20150918_155731_cell_78.png',\n",
       " 'C101P62ThinF_IMG_20150918_155731_cell_79.png',\n",
       " 'C101P62ThinF_IMG_20150918_155731_cell_80.png',\n",
       " 'C101P62ThinF_IMG_20150918_155731_cell_81.png',\n",
       " 'C101P62ThinF_IMG_20150918_155731_cell_82.png',\n",
       " 'C101P62ThinF_IMG_20150918_155731_cell_83.png',\n",
       " 'C101P62ThinF_IMG_20150918_155731_cell_84.png',\n",
       " 'C101P62ThinF_IMG_20150923_165215_cell_1.png',\n",
       " 'C101P62ThinF_IMG_20150923_165215_cell_10.png',\n",
       " 'C101P62ThinF_IMG_20150923_165215_cell_11.png',\n",
       " 'C101P62ThinF_IMG_20150923_165215_cell_12.png',\n",
       " 'C101P62ThinF_IMG_20150923_165215_cell_13.png',\n",
       " 'C101P62ThinF_IMG_20150923_165215_cell_14.png',\n",
       " 'C101P62ThinF_IMG_20150923_165215_cell_15.png',\n",
       " 'C101P62ThinF_IMG_20150923_165215_cell_16.png',\n",
       " 'C101P62ThinF_IMG_20150923_165215_cell_17.png',\n",
       " 'C101P62ThinF_IMG_20150923_165215_cell_19.png',\n",
       " 'C101P62ThinF_IMG_20150923_165215_cell_20.png',\n",
       " 'C101P62ThinF_IMG_20150923_165215_cell_21.png',\n",
       " 'C101P62ThinF_IMG_20150923_165215_cell_22.png',\n",
       " 'C101P62ThinF_IMG_20150923_165215_cell_23.png',\n",
       " 'C101P62ThinF_IMG_20150923_165215_cell_24.png',\n",
       " 'C101P62ThinF_IMG_20150923_165215_cell_25.png',\n",
       " 'C101P62ThinF_IMG_20150923_165215_cell_26.png',\n",
       " 'C101P62ThinF_IMG_20150923_165215_cell_27.png',\n",
       " 'C101P62ThinF_IMG_20150923_165215_cell_28.png',\n",
       " 'C101P62ThinF_IMG_20150923_165215_cell_29.png',\n",
       " 'C101P62ThinF_IMG_20150923_165215_cell_3.png',\n",
       " 'C101P62ThinF_IMG_20150923_165215_cell_30.png',\n",
       " 'C101P62ThinF_IMG_20150923_165215_cell_32.png',\n",
       " 'C101P62ThinF_IMG_20150923_165215_cell_33.png',\n",
       " 'C101P62ThinF_IMG_20150923_165215_cell_34.png',\n",
       " 'C101P62ThinF_IMG_20150923_165215_cell_35.png',\n",
       " 'C101P62ThinF_IMG_20150923_165215_cell_37.png',\n",
       " 'C101P62ThinF_IMG_20150923_165215_cell_38.png',\n",
       " 'C101P62ThinF_IMG_20150923_165215_cell_39.png',\n",
       " 'C101P62ThinF_IMG_20150923_165215_cell_4.png',\n",
       " 'C101P62ThinF_IMG_20150923_165215_cell_40.png',\n",
       " 'C101P62ThinF_IMG_20150923_165215_cell_41.png',\n",
       " 'C101P62ThinF_IMG_20150923_165215_cell_5.png',\n",
       " 'C101P62ThinF_IMG_20150923_165215_cell_6.png',\n",
       " 'C101P62ThinF_IMG_20150923_165215_cell_7.png',\n",
       " 'C101P62ThinF_IMG_20150923_165215_cell_8.png',\n",
       " 'C101P62ThinF_IMG_20150923_165215_cell_9.png',\n",
       " 'C101P62ThinF_IMG_20150923_170110_cell_1.png',\n",
       " 'C101P62ThinF_IMG_20150923_170110_cell_10.png',\n",
       " 'C101P62ThinF_IMG_20150923_170110_cell_11.png',\n",
       " 'C101P62ThinF_IMG_20150923_170110_cell_12.png',\n",
       " 'C101P62ThinF_IMG_20150923_170110_cell_14.png',\n",
       " 'C101P62ThinF_IMG_20150923_170110_cell_15.png',\n",
       " 'C101P62ThinF_IMG_20150923_170110_cell_16.png',\n",
       " 'C101P62ThinF_IMG_20150923_170110_cell_17.png',\n",
       " 'C101P62ThinF_IMG_20150923_170110_cell_18.png',\n",
       " 'C101P62ThinF_IMG_20150923_170110_cell_19.png',\n",
       " 'C101P62ThinF_IMG_20150923_170110_cell_2.png',\n",
       " 'C101P62ThinF_IMG_20150923_170110_cell_20.png',\n",
       " 'C101P62ThinF_IMG_20150923_170110_cell_21.png',\n",
       " 'C101P62ThinF_IMG_20150923_170110_cell_22.png',\n",
       " 'C101P62ThinF_IMG_20150923_170110_cell_23.png',\n",
       " 'C101P62ThinF_IMG_20150923_170110_cell_24.png',\n",
       " 'C101P62ThinF_IMG_20150923_170110_cell_3.png',\n",
       " 'C101P62ThinF_IMG_20150923_170110_cell_4.png',\n",
       " 'C101P62ThinF_IMG_20150923_170110_cell_5.png',\n",
       " 'C101P62ThinF_IMG_20150923_170110_cell_6.png',\n",
       " 'C101P62ThinF_IMG_20150923_170110_cell_7.png',\n",
       " 'C101P62ThinF_IMG_20150923_170110_cell_8.png',\n",
       " 'C101P62ThinF_IMG_20150923_170110_cell_9.png',\n",
       " 'C101P62ThinF_IMG_20150923_170246_cell_62.png',\n",
       " 'C101P62ThinF_IMG_20150923_170246_cell_63.png',\n",
       " 'C101P62ThinF_IMG_20150923_170246_cell_64.png',\n",
       " 'C101P62ThinF_IMG_20150923_170246_cell_65.png',\n",
       " 'C101P62ThinF_IMG_20150923_170246_cell_66.png',\n",
       " 'C101P62ThinF_IMG_20150923_170246_cell_67.png',\n",
       " 'C101P62ThinF_IMG_20150923_170246_cell_68.png',\n",
       " 'C101P62ThinF_IMG_20150923_170246_cell_70.png',\n",
       " 'C101P62ThinF_IMG_20150923_170246_cell_71.png',\n",
       " 'C101P62ThinF_IMG_20150923_170246_cell_72.png',\n",
       " 'C101P62ThinF_IMG_20150923_170246_cell_74.png',\n",
       " 'C101P62ThinF_IMG_20150923_170246_cell_75.png',\n",
       " 'C101P62ThinF_IMG_20150923_170246_cell_76.png',\n",
       " 'C101P62ThinF_IMG_20150923_170246_cell_77.png',\n",
       " 'C101P62ThinF_IMG_20150923_170246_cell_78.png',\n",
       " 'C101P62ThinF_IMG_20150923_170246_cell_79.png',\n",
       " 'C101P62ThinF_IMG_20150923_170246_cell_80.png',\n",
       " 'C101P62ThinF_IMG_20150923_170246_cell_81.png',\n",
       " 'C101P62ThinF_IMG_20150923_170246_cell_82.png',\n",
       " 'C101P62ThinF_IMG_20150923_170246_cell_83.png',\n",
       " 'C101P62ThinF_IMG_20150923_170246_cell_84.png',\n",
       " 'C101P62ThinF_IMG_20150923_170246_cell_85.png',\n",
       " 'C101P62ThinF_IMG_20150923_170246_cell_87.png',\n",
       " 'C101P62ThinF_IMG_20150923_170246_cell_88.png',\n",
       " 'C101P62ThinF_IMG_20150923_170246_cell_89.png',\n",
       " 'C101P62ThinF_IMG_20150923_170246_cell_90.png',\n",
       " 'C101P62ThinF_IMG_20150923_170344_cell_100.png',\n",
       " 'C101P62ThinF_IMG_20150923_170344_cell_71.png',\n",
       " 'C101P62ThinF_IMG_20150923_170344_cell_72.png',\n",
       " 'C101P62ThinF_IMG_20150923_170344_cell_73.png',\n",
       " 'C101P62ThinF_IMG_20150923_170344_cell_74.png',\n",
       " 'C101P62ThinF_IMG_20150923_170344_cell_75.png',\n",
       " 'C101P62ThinF_IMG_20150923_170344_cell_76.png',\n",
       " 'C101P62ThinF_IMG_20150923_170344_cell_77.png',\n",
       " 'C101P62ThinF_IMG_20150923_170344_cell_78.png',\n",
       " 'C101P62ThinF_IMG_20150923_170344_cell_79.png',\n",
       " 'C101P62ThinF_IMG_20150923_170344_cell_80.png',\n",
       " 'C101P62ThinF_IMG_20150923_170344_cell_81.png',\n",
       " 'C101P62ThinF_IMG_20150923_170344_cell_82.png',\n",
       " 'C101P62ThinF_IMG_20150923_170344_cell_84.png',\n",
       " 'C101P62ThinF_IMG_20150923_170344_cell_86.png',\n",
       " 'C101P62ThinF_IMG_20150923_170344_cell_87.png',\n",
       " 'C101P62ThinF_IMG_20150923_170344_cell_88.png',\n",
       " 'C101P62ThinF_IMG_20150923_170344_cell_89.png',\n",
       " 'C101P62ThinF_IMG_20150923_170344_cell_90.png',\n",
       " 'C101P62ThinF_IMG_20150923_170344_cell_91.png',\n",
       " 'C101P62ThinF_IMG_20150923_170344_cell_92.png',\n",
       " 'C101P62ThinF_IMG_20150923_170344_cell_93.png',\n",
       " 'C101P62ThinF_IMG_20150923_170344_cell_94.png',\n",
       " 'C101P62ThinF_IMG_20150923_170344_cell_95.png',\n",
       " 'C101P62ThinF_IMG_20150923_170344_cell_97.png',\n",
       " 'C101P62ThinF_IMG_20150923_170344_cell_98.png',\n",
       " 'C102P63ThinF_IMG_20150918_161508_cell_190.png',\n",
       " 'C102P63ThinF_IMG_20150918_161508_cell_191.png',\n",
       " 'C102P63ThinF_IMG_20150918_161508_cell_192.png',\n",
       " 'C102P63ThinF_IMG_20150918_161508_cell_193.png',\n",
       " 'C102P63ThinF_IMG_20150918_161508_cell_194.png',\n",
       " 'C102P63ThinF_IMG_20150918_161508_cell_195.png',\n",
       " 'C102P63ThinF_IMG_20150918_161826_cell_170.png',\n",
       " 'C102P63ThinF_IMG_20150918_161826_cell_171.png',\n",
       " 'C102P63ThinF_IMG_20150918_161826_cell_172.png',\n",
       " 'C102P63ThinF_IMG_20150918_162051_cell_141.png',\n",
       " 'C102P63ThinF_IMG_20150918_162051_cell_142.png',\n",
       " 'C102P63ThinF_IMG_20150918_162051_cell_143.png',\n",
       " 'C102P63ThinF_IMG_20150918_162051_cell_144.png',\n",
       " 'C102P63ThinF_IMG_20150918_162051_cell_145.png',\n",
       " 'C102P63ThinF_IMG_20150918_162051_cell_146.png',\n",
       " 'C102P63ThinF_IMG_20150918_162051_cell_147.png',\n",
       " 'C102P63ThinF_IMG_20150918_162155_cell_132.png',\n",
       " 'C102P63ThinF_IMG_20150918_162155_cell_133.png',\n",
       " 'C102P63ThinF_IMG_20150918_162300_cell_180.png',\n",
       " 'C102P63ThinF_IMG_20150918_162300_cell_181.png',\n",
       " 'C102P63ThinF_IMG_20150918_162300_cell_182.png',\n",
       " 'C102P63ThinF_IMG_20150918_162511_cell_169.png',\n",
       " 'C102P63ThinF_IMG_20150918_162511_cell_170.png',\n",
       " 'C102P63ThinF_IMG_20150918_162511_cell_171.png',\n",
       " 'C102P63ThinF_IMG_20150918_162511_cell_172.png',\n",
       " 'C102P63ThinF_IMG_20150918_162511_cell_173.png',\n",
       " 'C102P63ThinF_IMG_20150918_162927_cell_1.png',\n",
       " 'C102P63ThinF_IMG_20150918_162927_cell_2.png',\n",
       " 'C102P63ThinF_IMG_20150918_162927_cell_3.png',\n",
       " 'C102P63ThinF_IMG_20150918_162927_cell_4.png',\n",
       " 'C102P63ThinF_IMG_20150918_162927_cell_5.png',\n",
       " 'C102P63ThinF_IMG_20150918_163054_cell_167.png',\n",
       " 'C102P63ThinF_IMG_20150918_163054_cell_168.png',\n",
       " 'C102P63ThinF_IMG_20150918_163054_cell_169.png',\n",
       " 'C102P63ThinF_IMG_20150918_163054_cell_170.png',\n",
       " 'C103P64ThinF_IMG_20150918_164250_cell_170.png',\n",
       " 'C103P64ThinF_IMG_20150918_164250_cell_172.png',\n",
       " 'C103P64ThinF_IMG_20150918_164250_cell_173.png',\n",
       " 'C103P64ThinF_IMG_20150918_164250_cell_174.png',\n",
       " 'C103P64ThinF_IMG_20150918_164331_cell_185.png',\n",
       " 'C103P64ThinF_IMG_20150918_164331_cell_186.png',\n",
       " 'C103P64ThinF_IMG_20150918_164331_cell_187.png',\n",
       " 'C103P64ThinF_IMG_20150918_164553_cell_167.png',\n",
       " 'C103P64ThinF_IMG_20150918_164553_cell_168.png',\n",
       " 'C103P64ThinF_IMG_20150918_164553_cell_169.png',\n",
       " 'C103P64ThinF_IMG_20150918_164553_cell_170.png',\n",
       " 'C103P64ThinF_IMG_20150918_164553_cell_172.png',\n",
       " 'C103P64ThinF_IMG_20150918_164553_cell_173.png',\n",
       " 'C103P64ThinF_IMG_20150918_165016_cell_158.png',\n",
       " 'C103P64ThinF_IMG_20150918_165016_cell_159.png',\n",
       " 'C103P64ThinF_IMG_20150918_165016_cell_160.png',\n",
       " 'C103P64ThinF_IMG_20150918_165016_cell_161.png',\n",
       " 'C103P64ThinF_IMG_20150918_165016_cell_162.png',\n",
       " 'C103P64ThinF_IMG_20150918_165125_cell_163.png',\n",
       " 'C103P64ThinF_IMG_20150918_165125_cell_164.png',\n",
       " 'C103P64ThinF_IMG_20150918_165125_cell_165.png',\n",
       " 'C103P64ThinF_IMG_20150918_165125_cell_166.png',\n",
       " 'C103P64ThinF_IMG_20150918_165510_cell_176.png',\n",
       " 'C103P64ThinF_IMG_20150918_165510_cell_177.png',\n",
       " 'C103P64ThinF_IMG_20150918_165510_cell_178.png',\n",
       " 'C103P64ThinF_IMG_20150918_165510_cell_179.png',\n",
       " 'C103P64ThinF_IMG_20150918_165510_cell_180.png',\n",
       " 'C103P64ThinF_IMG_20150918_165510_cell_181.png',\n",
       " 'C103P64ThinF_IMG_20150918_165510_cell_182.png',\n",
       " 'C103P64ThinF_IMG_20150918_165510_cell_183.png',\n",
       " 'C103P64ThinF_IMG_20150918_165510_cell_184.png',\n",
       " 'C103P64ThinF_IMG_20150918_165510_cell_185.png',\n",
       " 'C103P64ThinF_IMG_20150918_165510_cell_186.png',\n",
       " 'C103P64ThinF_IMG_20150918_165510_cell_188.png',\n",
       " 'C104P65ThinF_IMG_20150918_170850_cell_204.png',\n",
       " 'C104P65ThinF_IMG_20150918_171154_cell_212.png',\n",
       " 'C104P65ThinF_IMG_20150918_171154_cell_213.png',\n",
       " 'C104P65ThinF_IMG_20150918_171751_cell_186.png',\n",
       " 'C104P65ThinF_IMG_20150918_171751_cell_187.png',\n",
       " 'C104P65ThinF_IMG_20150918_172053_cell_187.png',\n",
       " 'C104P65ThinF_IMG_20150918_172537_cell_149.png',\n",
       " 'C104P65ThinF_IMG_20150918_172639_cell_182.png',\n",
       " 'C104P65ThinF_IMG_20150918_172639_cell_184.png',\n",
       " 'C105P66ThinF_IMG_20150924_094800_cell_136.png',\n",
       " 'C105P66ThinF_IMG_20150924_094800_cell_137.png',\n",
       " 'C105P66ThinF_IMG_20150924_095034_cell_148.png',\n",
       " 'C105P66ThinF_IMG_20150924_095034_cell_149.png',\n",
       " 'C105P66ThinF_IMG_20150924_095034_cell_150.png',\n",
       " 'C105P66ThinF_IMG_20150924_095130_cell_155.png',\n",
       " 'C105P66ThinF_IMG_20150924_095130_cell_156.png',\n",
       " 'C105P66ThinF_IMG_20150924_095130_cell_157.png',\n",
       " 'C105P66ThinF_IMG_20150924_095130_cell_158.png',\n",
       " 'C105P66ThinF_IMG_20150924_095633_cell_126.png',\n",
       " 'C105P66ThinF_IMG_20150924_095716_cell_113.png',\n",
       " 'C105P66ThinF_IMG_20150924_095716_cell_114.png',\n",
       " 'C105P66ThinF_IMG_20150924_095913_cell_117.png',\n",
       " 'C105P66ThinF_IMG_20150924_095913_cell_118.png',\n",
       " 'C105P66ThinF_IMG_20150924_100655_cell_123.png',\n",
       " 'C105P66ThinF_IMG_20150924_100655_cell_124.png',\n",
       " 'C105P66ThinF_IMG_20150924_100655_cell_125.png',\n",
       " 'C106P67ThinF_IMG_20150924_102245_cell_164.png',\n",
       " 'C106P67ThinF_IMG_20150924_102245_cell_165.png',\n",
       " 'C106P67ThinF_IMG_20150924_102245_cell_166.png',\n",
       " 'C106P67ThinF_IMG_20150924_102413_cell_190.png',\n",
       " 'C106P67ThinF_IMG_20150924_102826_cell_143.png',\n",
       " 'C106P67ThinF_IMG_20150924_103245_cell_143.png',\n",
       " 'C106P67ThinF_IMG_20150924_103811_cell_180.png',\n",
       " 'C106P67ThinF_IMG_20150924_103811_cell_181.png',\n",
       " 'C106P67ThinF_IMG_20150924_103811_cell_182.png',\n",
       " 'C106P67ThinF_IMG_20150924_103811_cell_183.png',\n",
       " 'C106P67ThinF_IMG_20150924_104044_cell_167.png',\n",
       " 'C106P67ThinF_IMG_20150924_104044_cell_168.png',\n",
       " 'C107P68ThinF_IMG_20150924_221632_cell_169.png',\n",
       " 'C107P68ThinF_IMG_20150924_221632_cell_170.png',\n",
       " 'C107P68ThinF_IMG_20150924_221632_cell_172.png',\n",
       " 'C107P68ThinF_IMG_20150924_221632_cell_173.png',\n",
       " 'C107P68ThinF_IMG_20150924_221632_cell_174.png',\n",
       " 'C107P68ThinF_IMG_20150924_221632_cell_175.png',\n",
       " 'C107P68ThinF_IMG_20150924_221632_cell_176.png',\n",
       " 'C107P68ThinF_IMG_20150924_221632_cell_177.png',\n",
       " 'C107P68ThinF_IMG_20150924_221632_cell_178.png',\n",
       " 'C107P68ThinF_IMG_20150924_221632_cell_179.png',\n",
       " 'C107P68ThinF_IMG_20150924_221632_cell_180.png',\n",
       " 'C107P68ThinF_IMG_20150924_221909_cell_156.png',\n",
       " 'C107P68ThinF_IMG_20150924_221909_cell_159.png',\n",
       " 'C107P68ThinF_IMG_20150924_221909_cell_160.png',\n",
       " 'C107P68ThinF_IMG_20150924_221909_cell_161.png',\n",
       " 'C107P68ThinF_IMG_20150924_221909_cell_162.png',\n",
       " 'C107P68ThinF_IMG_20150924_221909_cell_163.png',\n",
       " 'C107P68ThinF_IMG_20150924_222233_cell_150.png',\n",
       " 'C107P68ThinF_IMG_20150924_222233_cell_151.png',\n",
       " 'C107P68ThinF_IMG_20150924_222233_cell_153.png',\n",
       " 'C107P68ThinF_IMG_20150924_222233_cell_154.png',\n",
       " 'C107P68ThinF_IMG_20150924_222233_cell_156.png',\n",
       " 'C107P68ThinF_IMG_20150924_222233_cell_157.png',\n",
       " 'C107P68ThinF_IMG_20150924_222233_cell_158.png',\n",
       " 'C107P68ThinF_IMG_20150924_222233_cell_159.png',\n",
       " 'C107P68ThinF_IMG_20150924_222233_cell_160.png',\n",
       " 'C107P68ThinF_IMG_20150924_222233_cell_161.png',\n",
       " 'C107P68ThinF_IMG_20150924_222233_cell_162.png',\n",
       " 'C107P68ThinF_IMG_20150924_222233_cell_163.png',\n",
       " 'C107P68ThinF_IMG_20150924_222415_cell_172.png',\n",
       " 'C107P68ThinF_IMG_20150924_222415_cell_173.png',\n",
       " 'C107P68ThinF_IMG_20150924_222415_cell_174.png',\n",
       " 'C107P68ThinF_IMG_20150924_222415_cell_175.png',\n",
       " 'C107P68ThinF_IMG_20150924_222415_cell_176.png',\n",
       " 'C107P68ThinF_IMG_20150924_222415_cell_177.png',\n",
       " 'C107P68ThinF_IMG_20150924_222415_cell_178.png',\n",
       " 'C107P68ThinF_IMG_20150924_222415_cell_179.png',\n",
       " 'C107P68ThinF_IMG_20150924_222415_cell_180.png',\n",
       " 'C107P68ThinF_IMG_20150924_222415_cell_181.png',\n",
       " 'C107P68ThinF_IMG_20150924_222415_cell_182.png',\n",
       " 'C107P68ThinF_IMG_20150924_222415_cell_183.png',\n",
       " 'C107P68ThinF_IMG_20150924_222535_cell_139.png',\n",
       " 'C107P68ThinF_IMG_20150924_222535_cell_140.png',\n",
       " 'C107P68ThinF_IMG_20150924_222535_cell_141.png',\n",
       " 'C107P68ThinF_IMG_20150924_222535_cell_142.png',\n",
       " 'C107P68ThinF_IMG_20150924_222535_cell_143.png',\n",
       " 'C107P68ThinF_IMG_20150924_222535_cell_144.png',\n",
       " 'C107P68ThinF_IMG_20150924_222535_cell_145.png',\n",
       " 'C107P68ThinF_IMG_20150924_222535_cell_146.png',\n",
       " 'C107P68ThinF_IMG_20150924_222535_cell_147.png',\n",
       " 'C107P68ThinF_IMG_20150924_222535_cell_148.png',\n",
       " 'C107P68ThinF_IMG_20150924_222630_cell_174.png',\n",
       " 'C107P68ThinF_IMG_20150924_222630_cell_175.png',\n",
       " 'C107P68ThinF_IMG_20150924_222630_cell_176.png',\n",
       " 'C107P68ThinF_IMG_20150924_222630_cell_177.png',\n",
       " 'C108P69ThinF_IMG_20150924_223834_cell_218.png',\n",
       " 'C108P69ThinF_IMG_20150924_223834_cell_219.png',\n",
       " 'C108P69ThinF_IMG_20150924_223834_cell_220.png',\n",
       " 'C108P69ThinF_IMG_20150924_223834_cell_221.png',\n",
       " 'C108P69ThinF_IMG_20150924_224038_cell_188.png',\n",
       " 'C108P69ThinF_IMG_20150924_224038_cell_189.png',\n",
       " 'C108P69ThinF_IMG_20150924_224038_cell_190.png',\n",
       " 'C108P69ThinF_IMG_20150924_224616_cell_195.png',\n",
       " 'C108P69ThinF_IMG_20150924_224616_cell_196.png',\n",
       " 'C108P69ThinF_IMG_20150924_224616_cell_197.png',\n",
       " 'C108P69ThinF_IMG_20150924_224616_cell_198.png',\n",
       " 'C108P69ThinF_IMG_20150924_224909_cell_226.png',\n",
       " 'C108P69ThinF_IMG_20150924_225004_cell_221.png',\n",
       " 'C108P69ThinF_IMG_20150924_225004_cell_222.png',\n",
       " 'C108P69ThinF_IMG_20150924_225004_cell_223.png',\n",
       " 'C108P69ThinF_IMG_20150924_225004_cell_224.png',\n",
       " 'C108P69ThinF_IMG_20150924_225004_cell_225.png',\n",
       " 'C108P69ThinF_IMG_20150924_225511_cell_182.png',\n",
       " 'C108P69ThinF_IMG_20150924_225511_cell_183.png',\n",
       " 'C108P69ThinF_IMG_20150924_225511_cell_184.png',\n",
       " 'C109P70ThinF_IMG_20150930_102716_cell_185.png',\n",
       " 'C109P70ThinF_IMG_20150930_102716_cell_186.png',\n",
       " 'C109P70ThinF_IMG_20150930_102716_cell_187.png',\n",
       " 'C109P70ThinF_IMG_20150930_102944_cell_171.png',\n",
       " 'C109P70ThinF_IMG_20150930_102944_cell_172.png',\n",
       " 'C109P70ThinF_IMG_20150930_103113_cell_160.png',\n",
       " 'C109P70ThinF_IMG_20150930_103113_cell_162.png',\n",
       " 'C109P70ThinF_IMG_20150930_103214_cell_182.png',\n",
       " 'C109P70ThinF_IMG_20150930_103214_cell_183.png',\n",
       " 'C109P70ThinF_IMG_20150930_103214_cell_184.png',\n",
       " 'C109P70ThinF_IMG_20150930_103214_cell_185.png',\n",
       " 'C109P70ThinF_IMG_20150930_103645_cell_172.png',\n",
       " 'C109P70ThinF_IMG_20150930_103645_cell_173.png',\n",
       " 'C109P70ThinF_IMG_20150930_103645_cell_174.png',\n",
       " 'C109P70ThinF_IMG_20150930_103645_cell_175.png',\n",
       " 'C109P70ThinF_IMG_20150930_103811_cell_157.png',\n",
       " 'C109P70ThinF_IMG_20150930_103811_cell_158.png',\n",
       " 'C110P71ThinF_IMG_20150930_105319_cell_185.png',\n",
       " 'C110P71ThinF_IMG_20150930_105319_cell_186.png',\n",
       " 'C110P71ThinF_IMG_20150930_105319_cell_187.png',\n",
       " 'C110P71ThinF_IMG_20150930_105319_cell_188.png',\n",
       " 'C110P71ThinF_IMG_20150930_105319_cell_189.png',\n",
       " 'C110P71ThinF_IMG_20150930_105319_cell_190.png',\n",
       " 'C110P71ThinF_IMG_20150930_105559_cell_199.png',\n",
       " 'C110P71ThinF_IMG_20150930_105559_cell_200.png',\n",
       " 'C110P71ThinF_IMG_20150930_105559_cell_201.png',\n",
       " 'C110P71ThinF_IMG_20150930_105559_cell_202.png',\n",
       " 'C110P71ThinF_IMG_20150930_105729_cell_207.png',\n",
       " 'C110P71ThinF_IMG_20150930_105925_cell_221.png',\n",
       " 'C110P71ThinF_IMG_20150930_110052_cell_238.png',\n",
       " 'C110P71ThinF_IMG_20150930_110052_cell_239.png',\n",
       " 'C110P71ThinF_IMG_20150930_110052_cell_240.png',\n",
       " 'C110P71ThinF_IMG_20150930_110052_cell_241.png',\n",
       " 'C110P71ThinF_IMG_20150930_110052_cell_242.png',\n",
       " 'C110P71ThinF_IMG_20150930_110052_cell_243.png',\n",
       " 'C110P71ThinF_IMG_20150930_110404_cell_157.png',\n",
       " 'C110P71ThinF_IMG_20150930_110404_cell_158.png',\n",
       " 'C110P71ThinF_IMG_20150930_110404_cell_159.png',\n",
       " 'C110P71ThinF_IMG_20150930_110404_cell_160.png',\n",
       " 'C111P72ThinF_IMG_20150930_112430_cell_191.png',\n",
       " 'C111P72ThinF_IMG_20150930_112430_cell_192.png',\n",
       " 'C111P72ThinF_IMG_20150930_112430_cell_193.png',\n",
       " 'C111P72ThinF_IMG_20150930_112609_cell_169.png',\n",
       " 'C111P72ThinF_IMG_20150930_112609_cell_170.png',\n",
       " 'C111P72ThinF_IMG_20150930_112827_cell_176.png',\n",
       " 'C111P72ThinF_IMG_20150930_112827_cell_177.png',\n",
       " 'C111P72ThinF_IMG_20150930_112827_cell_178.png',\n",
       " 'C111P72ThinF_IMG_20150930_112827_cell_179.png',\n",
       " 'C111P72ThinF_IMG_20150930_113003_cell_182.png',\n",
       " 'C111P72ThinF_IMG_20150930_113049_cell_162.png',\n",
       " 'C111P72ThinF_IMG_20150930_113049_cell_163.png',\n",
       " 'C111P72ThinF_IMG_20150930_113049_cell_164.png',\n",
       " 'C111P72ThinF_IMG_20150930_113049_cell_165.png',\n",
       " 'C111P72ThinF_IMG_20150930_113049_cell_166.png',\n",
       " 'C111P72ThinF_IMG_20150930_113210_cell_171.png',\n",
       " 'C111P72ThinF_IMG_20150930_113610_cell_202.png',\n",
       " 'C111P72ThinF_IMG_20150930_113610_cell_203.png',\n",
       " 'C112P73ThinF_IMG_20150930_131254_cell_184.png',\n",
       " 'C112P73ThinF_IMG_20150930_131401_cell_165.png',\n",
       " 'C112P73ThinF_IMG_20150930_131401_cell_166.png',\n",
       " 'C112P73ThinF_IMG_20150930_131401_cell_167.png',\n",
       " 'C112P73ThinF_IMG_20150930_131401_cell_168.png',\n",
       " 'C112P73ThinF_IMG_20150930_131516_cell_177.png',\n",
       " 'C112P73ThinF_IMG_20150930_131516_cell_178.png',\n",
       " 'C112P73ThinF_IMG_20150930_131605_cell_181.png',\n",
       " 'C112P73ThinF_IMG_20150930_131605_cell_182.png',\n",
       " 'C112P73ThinF_IMG_20150930_131605_cell_183.png',\n",
       " 'C112P73ThinF_IMG_20150930_131659_cell_193.png',\n",
       " 'C112P73ThinF_IMG_20150930_131753_cell_167.png',\n",
       " 'C112P73ThinF_IMG_20150930_131900_cell_174.png',\n",
       " 'C112P73ThinF_IMG_20150930_131900_cell_175.png',\n",
       " 'C113P74ThinF_IMG_20150930_134355_cell_165.png',\n",
       " 'C113P74ThinF_IMG_20150930_134355_cell_166.png',\n",
       " 'C113P74ThinF_IMG_20150930_134355_cell_167.png',\n",
       " 'C113P74ThinF_IMG_20150930_134355_cell_168.png',\n",
       " 'C113P74ThinF_IMG_20150930_134355_cell_169.png',\n",
       " 'C113P74ThinF_IMG_20150930_134355_cell_170.png',\n",
       " 'C113P74ThinF_IMG_20150930_134355_cell_171.png',\n",
       " 'C113P74ThinF_IMG_20150930_134429_cell_176.png',\n",
       " 'C113P74ThinF_IMG_20150930_134429_cell_177.png',\n",
       " 'C113P74ThinF_IMG_20150930_134429_cell_178.png',\n",
       " 'C113P74ThinF_IMG_20150930_134429_cell_179.png',\n",
       " 'C113P74ThinF_IMG_20150930_134429_cell_180.png',\n",
       " 'C113P74ThinF_IMG_20150930_134429_cell_181.png',\n",
       " 'C113P74ThinF_IMG_20150930_134429_cell_182.png',\n",
       " 'C113P74ThinF_IMG_20150930_134429_cell_183.png',\n",
       " 'C113P74ThinF_IMG_20150930_134429_cell_184.png',\n",
       " 'C113P74ThinF_IMG_20150930_134614_cell_169.png',\n",
       " 'C113P74ThinF_IMG_20150930_134614_cell_170.png',\n",
       " 'C113P74ThinF_IMG_20150930_134614_cell_171.png',\n",
       " 'C113P74ThinF_IMG_20150930_134614_cell_174.png',\n",
       " 'C113P74ThinF_IMG_20150930_134614_cell_175.png',\n",
       " 'C113P74ThinF_IMG_20150930_134614_cell_176.png',\n",
       " 'C113P74ThinF_IMG_20150930_134751_cell_173.png',\n",
       " 'C113P74ThinF_IMG_20150930_134751_cell_174.png',\n",
       " 'C113P74ThinF_IMG_20150930_134751_cell_176.png',\n",
       " 'C113P74ThinF_IMG_20150930_134751_cell_177.png',\n",
       " 'C113P74ThinF_IMG_20150930_134751_cell_179.png',\n",
       " 'C113P74ThinF_IMG_20150930_134751_cell_180.png',\n",
       " 'C113P74ThinF_IMG_20150930_134751_cell_181.png',\n",
       " 'C113P74ThinF_IMG_20150930_134949_cell_158.png',\n",
       " 'C113P74ThinF_IMG_20150930_134949_cell_159.png',\n",
       " 'C113P74ThinF_IMG_20150930_134949_cell_160.png',\n",
       " 'C113P74ThinF_IMG_20150930_134949_cell_162.png',\n",
       " 'C113P74ThinF_IMG_20150930_135904_cell_180.png',\n",
       " 'C113P74ThinF_IMG_20150930_135904_cell_181.png',\n",
       " 'C113P74ThinF_IMG_20150930_135904_cell_182.png',\n",
       " 'C113P74ThinF_IMG_20150930_135904_cell_183.png',\n",
       " 'C113P74ThinF_IMG_20150930_135904_cell_184.png',\n",
       " 'C113P74ThinF_IMG_20150930_135904_cell_185.png',\n",
       " 'C113P74ThinF_IMG_20150930_135904_cell_187.png',\n",
       " 'C113P74ThinF_IMG_20150930_135904_cell_188.png',\n",
       " 'C113P74ThinF_IMG_20150930_135904_cell_189.png',\n",
       " 'C113P74ThinF_IMG_20150930_140646_cell_181.png',\n",
       " 'C113P74ThinF_IMG_20150930_140646_cell_182.png',\n",
       " 'C113P74ThinF_IMG_20150930_140646_cell_183.png',\n",
       " 'C113P74ThinF_IMG_20150930_140646_cell_184.png',\n",
       " 'C113P74ThinF_IMG_20150930_140646_cell_185.png',\n",
       " 'C113P74ThinF_IMG_20150930_140646_cell_186.png',\n",
       " 'C113P74ThinF_IMG_20150930_140646_cell_187.png',\n",
       " 'C113P74ThinF_IMG_20150930_140646_cell_188.png',\n",
       " 'C113P74ThinF_IMG_20150930_140646_cell_190.png',\n",
       " 'C114P75ThinF_IMG_20150930_150013_cell_195.png',\n",
       " 'C114P75ThinF_IMG_20150930_150013_cell_196.png',\n",
       " 'C114P75ThinF_IMG_20150930_150057_cell_172.png',\n",
       " 'C114P75ThinF_IMG_20150930_150145_cell_159.png',\n",
       " 'C114P75ThinF_IMG_20150930_150145_cell_160.png',\n",
       " 'C114P75ThinF_IMG_20150930_150555_cell_145.png',\n",
       " 'C114P75ThinF_IMG_20150930_150733_cell_149.png',\n",
       " 'C114P75ThinF_IMG_20150930_150733_cell_150.png',\n",
       " 'C114P75ThinF_IMG_20150930_150833_cell_164.png',\n",
       " 'C114P75ThinF_IMG_20150930_150833_cell_165.png',\n",
       " 'C114P75ThinF_IMG_20150930_151150_cell_177.png',\n",
       " 'C114P75ThinF_IMG_20150930_151150_cell_178.png',\n",
       " 'C114P75ThinF_IMG_20150930_151150_cell_179.png',\n",
       " 'C115P76ThinF_IMG_20150930_161825_cell_219.png',\n",
       " 'C115P76ThinF_IMG_20150930_161825_cell_221.png',\n",
       " 'C115P76ThinF_IMG_20150930_162038_cell_206.png',\n",
       " 'C115P76ThinF_IMG_20150930_162038_cell_207.png',\n",
       " 'C115P76ThinF_IMG_20150930_162038_cell_208.png',\n",
       " 'C115P76ThinF_IMG_20150930_162038_cell_209.png',\n",
       " 'C115P76ThinF_IMG_20150930_162038_cell_210.png',\n",
       " 'C115P76ThinF_IMG_20150930_162315_cell_256.png',\n",
       " 'C115P76ThinF_IMG_20150930_162315_cell_257.png',\n",
       " 'C115P76ThinF_IMG_20150930_163018_cell_252.png',\n",
       " 'C115P76ThinF_IMG_20150930_163156_cell_242.png',\n",
       " 'C115P76ThinF_IMG_20150930_163156_cell_243.png',\n",
       " 'C116P77ThinF_IMG_20150930_171219_cell_100.png',\n",
       " 'C116P77ThinF_IMG_20150930_171219_cell_101.png',\n",
       " 'C116P77ThinF_IMG_20150930_171219_cell_102.png',\n",
       " 'C116P77ThinF_IMG_20150930_171219_cell_104.png',\n",
       " 'C116P77ThinF_IMG_20150930_171219_cell_105.png',\n",
       " 'C116P77ThinF_IMG_20150930_171219_cell_106.png',\n",
       " 'C116P77ThinF_IMG_20150930_171219_cell_107.png',\n",
       " 'C116P77ThinF_IMG_20150930_171219_cell_109.png',\n",
       " 'C116P77ThinF_IMG_20150930_171219_cell_110.png',\n",
       " 'C116P77ThinF_IMG_20150930_171219_cell_111.png',\n",
       " 'C116P77ThinF_IMG_20150930_171219_cell_114.png',\n",
       " 'C116P77ThinF_IMG_20150930_171219_cell_76.png',\n",
       " 'C116P77ThinF_IMG_20150930_171219_cell_78.png',\n",
       " 'C116P77ThinF_IMG_20150930_171219_cell_79.png',\n",
       " 'C116P77ThinF_IMG_20150930_171219_cell_80.png',\n",
       " 'C116P77ThinF_IMG_20150930_171219_cell_81.png',\n",
       " 'C116P77ThinF_IMG_20150930_171219_cell_82.png',\n",
       " 'C116P77ThinF_IMG_20150930_171219_cell_83.png',\n",
       " 'C116P77ThinF_IMG_20150930_171219_cell_84.png',\n",
       " 'C116P77ThinF_IMG_20150930_171219_cell_85.png',\n",
       " 'C116P77ThinF_IMG_20150930_171219_cell_86.png',\n",
       " 'C116P77ThinF_IMG_20150930_171219_cell_87.png',\n",
       " 'C116P77ThinF_IMG_20150930_171219_cell_89.png',\n",
       " 'C116P77ThinF_IMG_20150930_171219_cell_90.png',\n",
       " 'C116P77ThinF_IMG_20150930_171219_cell_91.png',\n",
       " 'C116P77ThinF_IMG_20150930_171219_cell_92.png',\n",
       " 'C116P77ThinF_IMG_20150930_171219_cell_93.png',\n",
       " 'C116P77ThinF_IMG_20150930_171219_cell_94.png',\n",
       " 'C116P77ThinF_IMG_20150930_171219_cell_95.png',\n",
       " 'C116P77ThinF_IMG_20150930_171219_cell_96.png',\n",
       " 'C116P77ThinF_IMG_20150930_171219_cell_97.png',\n",
       " 'C116P77ThinF_IMG_20150930_171219_cell_98.png',\n",
       " 'C116P77ThinF_IMG_20150930_171219_cell_99.png',\n",
       " 'C116P77ThinF_IMG_20150930_171448_cell_100.png',\n",
       " 'C116P77ThinF_IMG_20150930_171448_cell_101.png',\n",
       " 'C116P77ThinF_IMG_20150930_171448_cell_102.png',\n",
       " 'C116P77ThinF_IMG_20150930_171448_cell_103.png',\n",
       " 'C116P77ThinF_IMG_20150930_171448_cell_104.png',\n",
       " 'C116P77ThinF_IMG_20150930_171448_cell_105.png',\n",
       " 'C116P77ThinF_IMG_20150930_171448_cell_106.png',\n",
       " 'C116P77ThinF_IMG_20150930_171448_cell_107.png',\n",
       " 'C116P77ThinF_IMG_20150930_171448_cell_108.png',\n",
       " 'C116P77ThinF_IMG_20150930_171448_cell_109.png',\n",
       " 'C116P77ThinF_IMG_20150930_171448_cell_110.png',\n",
       " 'C116P77ThinF_IMG_20150930_171448_cell_111.png',\n",
       " 'C116P77ThinF_IMG_20150930_171448_cell_112.png',\n",
       " 'C116P77ThinF_IMG_20150930_171448_cell_113.png',\n",
       " 'C116P77ThinF_IMG_20150930_171448_cell_115.png',\n",
       " 'C116P77ThinF_IMG_20150930_171448_cell_116.png',\n",
       " 'C116P77ThinF_IMG_20150930_171448_cell_117.png',\n",
       " 'C116P77ThinF_IMG_20150930_171448_cell_118.png',\n",
       " 'C116P77ThinF_IMG_20150930_171448_cell_119.png',\n",
       " 'C116P77ThinF_IMG_20150930_171448_cell_120.png',\n",
       " 'C116P77ThinF_IMG_20150930_171448_cell_121.png',\n",
       " 'C116P77ThinF_IMG_20150930_171448_cell_122.png',\n",
       " 'C116P77ThinF_IMG_20150930_171448_cell_123.png',\n",
       " 'C116P77ThinF_IMG_20150930_171448_cell_124.png',\n",
       " 'C116P77ThinF_IMG_20150930_171448_cell_125.png',\n",
       " 'C116P77ThinF_IMG_20150930_171448_cell_126.png',\n",
       " 'C116P77ThinF_IMG_20150930_171448_cell_127.png',\n",
       " 'C116P77ThinF_IMG_20150930_171448_cell_129.png',\n",
       " 'C116P77ThinF_IMG_20150930_171448_cell_130.png',\n",
       " 'C116P77ThinF_IMG_20150930_171448_cell_131.png',\n",
       " 'C116P77ThinF_IMG_20150930_171448_cell_132.png',\n",
       " 'C116P77ThinF_IMG_20150930_171448_cell_83.png',\n",
       " 'C116P77ThinF_IMG_20150930_171448_cell_84.png',\n",
       " 'C116P77ThinF_IMG_20150930_171448_cell_86.png',\n",
       " 'C116P77ThinF_IMG_20150930_171448_cell_89.png',\n",
       " 'C116P77ThinF_IMG_20150930_171448_cell_90.png',\n",
       " 'C116P77ThinF_IMG_20150930_171448_cell_91.png',\n",
       " 'C116P77ThinF_IMG_20150930_171448_cell_92.png',\n",
       " 'C116P77ThinF_IMG_20150930_171448_cell_93.png',\n",
       " 'C116P77ThinF_IMG_20150930_171448_cell_94.png',\n",
       " 'C116P77ThinF_IMG_20150930_171448_cell_95.png',\n",
       " 'C116P77ThinF_IMG_20150930_171448_cell_96.png',\n",
       " 'C116P77ThinF_IMG_20150930_171448_cell_97.png',\n",
       " 'C116P77ThinF_IMG_20150930_171448_cell_98.png',\n",
       " 'C116P77ThinF_IMG_20150930_171448_cell_99.png',\n",
       " 'C116P77ThinF_IMG_20150930_171558_cell_101.png',\n",
       " 'C116P77ThinF_IMG_20150930_171558_cell_102.png',\n",
       " 'C116P77ThinF_IMG_20150930_171558_cell_104.png',\n",
       " 'C116P77ThinF_IMG_20150930_171558_cell_105.png',\n",
       " 'C116P77ThinF_IMG_20150930_171558_cell_106.png',\n",
       " 'C116P77ThinF_IMG_20150930_171558_cell_107.png',\n",
       " 'C116P77ThinF_IMG_20150930_171558_cell_108.png',\n",
       " 'C116P77ThinF_IMG_20150930_171558_cell_109.png',\n",
       " 'C116P77ThinF_IMG_20150930_171558_cell_110.png',\n",
       " 'C116P77ThinF_IMG_20150930_171558_cell_111.png',\n",
       " 'C116P77ThinF_IMG_20150930_171558_cell_112.png',\n",
       " 'C116P77ThinF_IMG_20150930_171558_cell_115.png',\n",
       " 'C116P77ThinF_IMG_20150930_171558_cell_116.png',\n",
       " 'C116P77ThinF_IMG_20150930_171558_cell_117.png',\n",
       " 'C116P77ThinF_IMG_20150930_171558_cell_118.png',\n",
       " 'C116P77ThinF_IMG_20150930_171558_cell_119.png',\n",
       " 'C116P77ThinF_IMG_20150930_171558_cell_120.png',\n",
       " 'C116P77ThinF_IMG_20150930_171558_cell_121.png',\n",
       " 'C116P77ThinF_IMG_20150930_171558_cell_122.png',\n",
       " 'C116P77ThinF_IMG_20150930_171558_cell_123.png',\n",
       " 'C116P77ThinF_IMG_20150930_171558_cell_126.png',\n",
       " 'C116P77ThinF_IMG_20150930_171558_cell_128.png',\n",
       " 'C116P77ThinF_IMG_20150930_171558_cell_129.png',\n",
       " 'C116P77ThinF_IMG_20150930_171558_cell_130.png',\n",
       " 'C116P77ThinF_IMG_20150930_171558_cell_132.png',\n",
       " 'C116P77ThinF_IMG_20150930_171558_cell_133.png',\n",
       " 'C116P77ThinF_IMG_20150930_171558_cell_134.png',\n",
       " 'C116P77ThinF_IMG_20150930_171558_cell_135.png',\n",
       " 'C116P77ThinF_IMG_20150930_171558_cell_136.png',\n",
       " 'C116P77ThinF_IMG_20150930_171558_cell_137.png',\n",
       " 'C116P77ThinF_IMG_20150930_171558_cell_138.png',\n",
       " 'C116P77ThinF_IMG_20150930_171558_cell_139.png',\n",
       " 'C116P77ThinF_IMG_20150930_171558_cell_140.png',\n",
       " 'C116P77ThinF_IMG_20150930_171558_cell_141.png',\n",
       " 'C116P77ThinF_IMG_20150930_171558_cell_142.png',\n",
       " 'C116P77ThinF_IMG_20150930_171558_cell_144.png',\n",
       " 'C116P77ThinF_IMG_20150930_171558_cell_145.png',\n",
       " 'C116P77ThinF_IMG_20150930_171558_cell_146.png',\n",
       " 'C116P77ThinF_IMG_20150930_171558_cell_147.png',\n",
       " 'C116P77ThinF_IMG_20150930_171558_cell_148.png',\n",
       " 'C116P77ThinF_IMG_20150930_171558_cell_150.png',\n",
       " 'C116P77ThinF_IMG_20150930_171558_cell_151.png',\n",
       " 'C116P77ThinF_IMG_20150930_171558_cell_89.png',\n",
       " 'C116P77ThinF_IMG_20150930_171558_cell_90.png',\n",
       " 'C116P77ThinF_IMG_20150930_171558_cell_91.png',\n",
       " 'C116P77ThinF_IMG_20150930_171558_cell_92.png',\n",
       " 'C116P77ThinF_IMG_20150930_171558_cell_93.png',\n",
       " 'C116P77ThinF_IMG_20150930_171558_cell_95.png',\n",
       " 'C116P77ThinF_IMG_20150930_171558_cell_96.png',\n",
       " 'C116P77ThinF_IMG_20150930_171558_cell_97.png',\n",
       " 'C116P77ThinF_IMG_20150930_171558_cell_98.png',\n",
       " 'C116P77ThinF_IMG_20150930_171635_cell_100.png',\n",
       " 'C116P77ThinF_IMG_20150930_171635_cell_101.png',\n",
       " 'C116P77ThinF_IMG_20150930_171635_cell_102.png',\n",
       " 'C116P77ThinF_IMG_20150930_171635_cell_103.png',\n",
       " 'C116P77ThinF_IMG_20150930_171635_cell_105.png',\n",
       " 'C116P77ThinF_IMG_20150930_171635_cell_106.png',\n",
       " 'C116P77ThinF_IMG_20150930_171635_cell_107.png',\n",
       " 'C116P77ThinF_IMG_20150930_171635_cell_108.png',\n",
       " 'C116P77ThinF_IMG_20150930_171635_cell_109.png',\n",
       " 'C116P77ThinF_IMG_20150930_171635_cell_110.png',\n",
       " 'C116P77ThinF_IMG_20150930_171635_cell_111.png',\n",
       " 'C116P77ThinF_IMG_20150930_171635_cell_112.png',\n",
       " 'C116P77ThinF_IMG_20150930_171635_cell_113.png',\n",
       " 'C116P77ThinF_IMG_20150930_171635_cell_114.png',\n",
       " 'C116P77ThinF_IMG_20150930_171635_cell_115.png',\n",
       " 'C116P77ThinF_IMG_20150930_171635_cell_70.png',\n",
       " 'C116P77ThinF_IMG_20150930_171635_cell_71.png',\n",
       " 'C116P77ThinF_IMG_20150930_171635_cell_72.png',\n",
       " 'C116P77ThinF_IMG_20150930_171635_cell_73.png',\n",
       " 'C116P77ThinF_IMG_20150930_171635_cell_74.png',\n",
       " 'C116P77ThinF_IMG_20150930_171635_cell_75.png',\n",
       " 'C116P77ThinF_IMG_20150930_171635_cell_76.png',\n",
       " 'C116P77ThinF_IMG_20150930_171635_cell_77.png',\n",
       " 'C116P77ThinF_IMG_20150930_171635_cell_78.png',\n",
       " 'C116P77ThinF_IMG_20150930_171635_cell_79.png',\n",
       " 'C116P77ThinF_IMG_20150930_171635_cell_80.png',\n",
       " 'C116P77ThinF_IMG_20150930_171635_cell_81.png',\n",
       " 'C116P77ThinF_IMG_20150930_171635_cell_83.png',\n",
       " 'C116P77ThinF_IMG_20150930_171635_cell_84.png',\n",
       " 'C116P77ThinF_IMG_20150930_171635_cell_85.png',\n",
       " 'C116P77ThinF_IMG_20150930_171635_cell_86.png',\n",
       " 'C116P77ThinF_IMG_20150930_171635_cell_87.png',\n",
       " 'C116P77ThinF_IMG_20150930_171635_cell_89.png',\n",
       " 'C116P77ThinF_IMG_20150930_171635_cell_90.png',\n",
       " 'C116P77ThinF_IMG_20150930_171635_cell_91.png',\n",
       " 'C116P77ThinF_IMG_20150930_171635_cell_92.png',\n",
       " 'C116P77ThinF_IMG_20150930_171635_cell_93.png',\n",
       " 'C116P77ThinF_IMG_20150930_171635_cell_94.png',\n",
       " 'C116P77ThinF_IMG_20150930_171635_cell_95.png',\n",
       " 'C116P77ThinF_IMG_20150930_171635_cell_96.png',\n",
       " 'C116P77ThinF_IMG_20150930_171635_cell_97.png',\n",
       " 'C116P77ThinF_IMG_20150930_171635_cell_98.png',\n",
       " 'C116P77ThinF_IMG_20150930_171635_cell_99.png',\n",
       " 'C116P77ThinF_IMG_20150930_171739_cell_100.png',\n",
       " 'C116P77ThinF_IMG_20150930_171739_cell_101.png',\n",
       " 'C116P77ThinF_IMG_20150930_171739_cell_102.png',\n",
       " 'C116P77ThinF_IMG_20150930_171739_cell_103.png',\n",
       " 'C116P77ThinF_IMG_20150930_171739_cell_104.png',\n",
       " 'C116P77ThinF_IMG_20150930_171739_cell_105.png',\n",
       " 'C116P77ThinF_IMG_20150930_171739_cell_106.png',\n",
       " 'C116P77ThinF_IMG_20150930_171739_cell_107.png',\n",
       " 'C116P77ThinF_IMG_20150930_171739_cell_108.png',\n",
       " 'C116P77ThinF_IMG_20150930_171739_cell_111.png',\n",
       " 'C116P77ThinF_IMG_20150930_171739_cell_112.png',\n",
       " 'C116P77ThinF_IMG_20150930_171739_cell_113.png',\n",
       " 'C116P77ThinF_IMG_20150930_171739_cell_114.png',\n",
       " 'C116P77ThinF_IMG_20150930_171739_cell_115.png',\n",
       " 'C116P77ThinF_IMG_20150930_171739_cell_116.png',\n",
       " 'C116P77ThinF_IMG_20150930_171739_cell_117.png',\n",
       " 'C116P77ThinF_IMG_20150930_171739_cell_118.png',\n",
       " 'C116P77ThinF_IMG_20150930_171739_cell_75.png',\n",
       " 'C116P77ThinF_IMG_20150930_171739_cell_76.png',\n",
       " 'C116P77ThinF_IMG_20150930_171739_cell_77.png',\n",
       " 'C116P77ThinF_IMG_20150930_171739_cell_78.png',\n",
       " 'C116P77ThinF_IMG_20150930_171739_cell_80.png',\n",
       " 'C116P77ThinF_IMG_20150930_171739_cell_81.png',\n",
       " 'C116P77ThinF_IMG_20150930_171739_cell_82.png',\n",
       " 'C116P77ThinF_IMG_20150930_171739_cell_84.png',\n",
       " 'C116P77ThinF_IMG_20150930_171739_cell_86.png',\n",
       " 'C116P77ThinF_IMG_20150930_171739_cell_87.png',\n",
       " 'C116P77ThinF_IMG_20150930_171739_cell_88.png',\n",
       " 'C116P77ThinF_IMG_20150930_171739_cell_90.png',\n",
       " 'C116P77ThinF_IMG_20150930_171739_cell_91.png',\n",
       " 'C116P77ThinF_IMG_20150930_171739_cell_92.png',\n",
       " 'C116P77ThinF_IMG_20150930_171739_cell_93.png',\n",
       " 'C116P77ThinF_IMG_20150930_171739_cell_94.png',\n",
       " 'C116P77ThinF_IMG_20150930_171739_cell_95.png',\n",
       " 'C116P77ThinF_IMG_20150930_171739_cell_96.png',\n",
       " 'C116P77ThinF_IMG_20150930_171739_cell_97.png',\n",
       " 'C116P77ThinF_IMG_20150930_171739_cell_98.png',\n",
       " 'C116P77ThinF_IMG_20150930_171739_cell_99.png',\n",
       " 'C116P77ThinF_IMG_20150930_171809_cell_58.png',\n",
       " 'C116P77ThinF_IMG_20150930_171809_cell_59.png',\n",
       " 'C116P77ThinF_IMG_20150930_171809_cell_60.png',\n",
       " 'C116P77ThinF_IMG_20150930_171809_cell_61.png',\n",
       " 'C116P77ThinF_IMG_20150930_171809_cell_62.png',\n",
       " 'C116P77ThinF_IMG_20150930_171809_cell_64.png',\n",
       " 'C116P77ThinF_IMG_20150930_171809_cell_65.png',\n",
       " 'C116P77ThinF_IMG_20150930_171809_cell_66.png',\n",
       " 'C116P77ThinF_IMG_20150930_171809_cell_67.png',\n",
       " 'C116P77ThinF_IMG_20150930_171809_cell_68.png',\n",
       " 'C116P77ThinF_IMG_20150930_171809_cell_69.png',\n",
       " 'C116P77ThinF_IMG_20150930_171809_cell_70.png',\n",
       " 'C116P77ThinF_IMG_20150930_171809_cell_71.png',\n",
       " 'C116P77ThinF_IMG_20150930_171809_cell_72.png',\n",
       " 'C116P77ThinF_IMG_20150930_171809_cell_73.png',\n",
       " 'C116P77ThinF_IMG_20150930_171809_cell_74.png',\n",
       " 'C116P77ThinF_IMG_20150930_171809_cell_75.png',\n",
       " 'C116P77ThinF_IMG_20150930_171809_cell_76.png',\n",
       " 'C116P77ThinF_IMG_20150930_171809_cell_77.png',\n",
       " 'C116P77ThinF_IMG_20150930_171809_cell_78.png',\n",
       " 'C116P77ThinF_IMG_20150930_171809_cell_79.png',\n",
       " 'C116P77ThinF_IMG_20150930_171809_cell_80.png',\n",
       " 'C116P77ThinF_IMG_20150930_171809_cell_81.png',\n",
       " 'C116P77ThinF_IMG_20150930_171809_cell_82.png',\n",
       " 'C116P77ThinF_IMG_20150930_171809_cell_83.png',\n",
       " 'C116P77ThinF_IMG_20150930_171809_cell_84.png',\n",
       " 'C116P77ThinF_IMG_20150930_171809_cell_85.png',\n",
       " 'C116P77ThinF_IMG_20150930_171809_cell_86.png',\n",
       " 'C116P77ThinF_IMG_20150930_171809_cell_87.png',\n",
       " 'C116P77ThinF_IMG_20150930_171844_cell_100.png',\n",
       " 'C116P77ThinF_IMG_20150930_171844_cell_101.png',\n",
       " 'C116P77ThinF_IMG_20150930_171844_cell_102.png',\n",
       " 'C116P77ThinF_IMG_20150930_171844_cell_103.png',\n",
       " 'C116P77ThinF_IMG_20150930_171844_cell_104.png',\n",
       " 'C116P77ThinF_IMG_20150930_171844_cell_105.png',\n",
       " 'C116P77ThinF_IMG_20150930_171844_cell_106.png',\n",
       " 'C116P77ThinF_IMG_20150930_171844_cell_107.png',\n",
       " 'C116P77ThinF_IMG_20150930_171844_cell_108.png',\n",
       " 'C116P77ThinF_IMG_20150930_171844_cell_109.png',\n",
       " 'C116P77ThinF_IMG_20150930_171844_cell_110.png',\n",
       " 'C116P77ThinF_IMG_20150930_171844_cell_111.png',\n",
       " 'C116P77ThinF_IMG_20150930_171844_cell_112.png',\n",
       " 'C116P77ThinF_IMG_20150930_171844_cell_113.png',\n",
       " 'C116P77ThinF_IMG_20150930_171844_cell_114.png',\n",
       " 'C116P77ThinF_IMG_20150930_171844_cell_115.png',\n",
       " 'C116P77ThinF_IMG_20150930_171844_cell_116.png',\n",
       " 'C116P77ThinF_IMG_20150930_171844_cell_117.png',\n",
       " 'C116P77ThinF_IMG_20150930_171844_cell_118.png',\n",
       " 'C116P77ThinF_IMG_20150930_171844_cell_119.png',\n",
       " 'C116P77ThinF_IMG_20150930_171844_cell_120.png',\n",
       " 'C116P77ThinF_IMG_20150930_171844_cell_121.png',\n",
       " 'C116P77ThinF_IMG_20150930_171844_cell_122.png',\n",
       " 'C116P77ThinF_IMG_20150930_171844_cell_123.png',\n",
       " 'C116P77ThinF_IMG_20150930_171844_cell_124.png',\n",
       " 'C116P77ThinF_IMG_20150930_171844_cell_126.png',\n",
       " 'C116P77ThinF_IMG_20150930_171844_cell_127.png',\n",
       " 'C116P77ThinF_IMG_20150930_171844_cell_128.png',\n",
       " 'C116P77ThinF_IMG_20150930_171844_cell_82.png',\n",
       " 'C116P77ThinF_IMG_20150930_171844_cell_83.png',\n",
       " 'C116P77ThinF_IMG_20150930_171844_cell_84.png',\n",
       " 'C116P77ThinF_IMG_20150930_171844_cell_85.png',\n",
       " 'C116P77ThinF_IMG_20150930_171844_cell_86.png',\n",
       " 'C116P77ThinF_IMG_20150930_171844_cell_87.png',\n",
       " 'C116P77ThinF_IMG_20150930_171844_cell_88.png',\n",
       " 'C116P77ThinF_IMG_20150930_171844_cell_89.png',\n",
       " 'C116P77ThinF_IMG_20150930_171844_cell_90.png',\n",
       " 'C116P77ThinF_IMG_20150930_171844_cell_91.png',\n",
       " 'C116P77ThinF_IMG_20150930_171844_cell_93.png',\n",
       " 'C116P77ThinF_IMG_20150930_171844_cell_94.png',\n",
       " 'C116P77ThinF_IMG_20150930_171844_cell_95.png',\n",
       " 'C116P77ThinF_IMG_20150930_171844_cell_96.png',\n",
       " 'C116P77ThinF_IMG_20150930_171844_cell_97.png',\n",
       " 'C116P77ThinF_IMG_20150930_171844_cell_98.png',\n",
       " 'C116P77ThinF_IMG_20150930_171844_cell_99.png',\n",
       " 'C116P77ThinF_IMG_20150930_171954_cell_100.png',\n",
       " 'C116P77ThinF_IMG_20150930_171954_cell_101.png',\n",
       " 'C116P77ThinF_IMG_20150930_171954_cell_102.png',\n",
       " 'C116P77ThinF_IMG_20150930_171954_cell_103.png',\n",
       " 'C116P77ThinF_IMG_20150930_171954_cell_104.png',\n",
       " 'C116P77ThinF_IMG_20150930_171954_cell_105.png',\n",
       " 'C116P77ThinF_IMG_20150930_171954_cell_107.png',\n",
       " 'C116P77ThinF_IMG_20150930_171954_cell_108.png',\n",
       " 'C116P77ThinF_IMG_20150930_171954_cell_109.png',\n",
       " 'C116P77ThinF_IMG_20150930_171954_cell_111.png',\n",
       " 'C116P77ThinF_IMG_20150930_171954_cell_112.png',\n",
       " 'C116P77ThinF_IMG_20150930_171954_cell_113.png',\n",
       " 'C116P77ThinF_IMG_20150930_171954_cell_115.png',\n",
       " 'C116P77ThinF_IMG_20150930_171954_cell_73.png',\n",
       " 'C116P77ThinF_IMG_20150930_171954_cell_74.png',\n",
       " 'C116P77ThinF_IMG_20150930_171954_cell_75.png',\n",
       " 'C116P77ThinF_IMG_20150930_171954_cell_76.png',\n",
       " 'C116P77ThinF_IMG_20150930_171954_cell_77.png',\n",
       " 'C116P77ThinF_IMG_20150930_171954_cell_78.png',\n",
       " 'C116P77ThinF_IMG_20150930_171954_cell_79.png',\n",
       " 'C116P77ThinF_IMG_20150930_171954_cell_80.png',\n",
       " 'C116P77ThinF_IMG_20150930_171954_cell_81.png',\n",
       " 'C116P77ThinF_IMG_20150930_171954_cell_82.png',\n",
       " 'C116P77ThinF_IMG_20150930_171954_cell_83.png',\n",
       " 'C116P77ThinF_IMG_20150930_171954_cell_84.png',\n",
       " 'C116P77ThinF_IMG_20150930_171954_cell_85.png',\n",
       " 'C116P77ThinF_IMG_20150930_171954_cell_86.png',\n",
       " 'C116P77ThinF_IMG_20150930_171954_cell_87.png',\n",
       " 'C116P77ThinF_IMG_20150930_171954_cell_88.png',\n",
       " 'C116P77ThinF_IMG_20150930_171954_cell_90.png',\n",
       " 'C116P77ThinF_IMG_20150930_171954_cell_91.png',\n",
       " 'C116P77ThinF_IMG_20150930_171954_cell_92.png',\n",
       " 'C116P77ThinF_IMG_20150930_171954_cell_93.png',\n",
       " 'C116P77ThinF_IMG_20150930_171954_cell_94.png',\n",
       " 'C116P77ThinF_IMG_20150930_171954_cell_95.png',\n",
       " 'C116P77ThinF_IMG_20150930_171954_cell_96.png',\n",
       " 'C116P77ThinF_IMG_20150930_171954_cell_97.png',\n",
       " 'C116P77ThinF_IMG_20150930_171954_cell_98.png',\n",
       " 'C116P77ThinF_IMG_20150930_171954_cell_99.png',\n",
       " 'C116P77ThinF_IMG_20150930_172112_cell_100.png',\n",
       " 'C116P77ThinF_IMG_20150930_172112_cell_101.png',\n",
       " 'C116P77ThinF_IMG_20150930_172112_cell_102.png',\n",
       " 'C116P77ThinF_IMG_20150930_172112_cell_103.png',\n",
       " 'C116P77ThinF_IMG_20150930_172112_cell_104.png',\n",
       " 'C116P77ThinF_IMG_20150930_172112_cell_105.png',\n",
       " 'C116P77ThinF_IMG_20150930_172112_cell_106.png',\n",
       " 'C116P77ThinF_IMG_20150930_172112_cell_107.png',\n",
       " 'C116P77ThinF_IMG_20150930_172112_cell_109.png',\n",
       " 'C116P77ThinF_IMG_20150930_172112_cell_111.png',\n",
       " 'C116P77ThinF_IMG_20150930_172112_cell_112.png',\n",
       " 'C116P77ThinF_IMG_20150930_172112_cell_113.png',\n",
       " 'C116P77ThinF_IMG_20150930_172112_cell_114.png',\n",
       " 'C116P77ThinF_IMG_20150930_172112_cell_115.png',\n",
       " 'C116P77ThinF_IMG_20150930_172112_cell_65.png',\n",
       " 'C116P77ThinF_IMG_20150930_172112_cell_66.png',\n",
       " 'C116P77ThinF_IMG_20150930_172112_cell_67.png',\n",
       " 'C116P77ThinF_IMG_20150930_172112_cell_68.png',\n",
       " ...]"
      ]
     },
     "execution_count": 27,
     "metadata": {},
     "output_type": "execute_result"
    }
   ],
   "source": [
    "os.listdir(train_path+'\\\\parasitized')"
   ]
  },
  {
   "cell_type": "code",
   "execution_count": 28,
   "id": "86804f3e",
   "metadata": {},
   "outputs": [
    {
     "data": {
      "text/plain": [
       "'C100P61ThinF_IMG_20150918_144104_cell_162.png'"
      ]
     },
     "execution_count": 28,
     "metadata": {},
     "output_type": "execute_result"
    }
   ],
   "source": [
    "os.listdir(train_path+'\\\\parasitized')[0]"
   ]
  },
  {
   "cell_type": "code",
   "execution_count": 24,
   "id": "e73a720d",
   "metadata": {},
   "outputs": [],
   "source": [
    "para_cell = train_path+'\\\\parasitized'+'\\\\C100P61ThinF_IMG_20150918_144104_cell_162.png'"
   ]
  },
  {
   "cell_type": "code",
   "execution_count": 30,
   "id": "4e0c1055",
   "metadata": {},
   "outputs": [
    {
     "data": {
      "text/plain": [
       "'C:\\\\Users\\\\Ultimatrix\\\\Downloads\\\\TF_2_Notebooks_and_Data\\\\04-CNNs\\\\cell_images\\\\train\\\\\\\\parasitized\\\\C100P61ThinF_IMG_20150918_144104_cell_162.png'"
      ]
     },
     "execution_count": 30,
     "metadata": {},
     "output_type": "execute_result"
    }
   ],
   "source": [
    "para_cell"
   ]
  },
  {
   "cell_type": "code",
   "execution_count": 29,
   "id": "cb031179",
   "metadata": {},
   "outputs": [
    {
     "data": {
      "text/plain": [
       "array([[[0., 0., 0.],\n",
       "        [0., 0., 0.],\n",
       "        [0., 0., 0.],\n",
       "        ...,\n",
       "        [0., 0., 0.],\n",
       "        [0., 0., 0.],\n",
       "        [0., 0., 0.]],\n",
       "\n",
       "       [[0., 0., 0.],\n",
       "        [0., 0., 0.],\n",
       "        [0., 0., 0.],\n",
       "        ...,\n",
       "        [0., 0., 0.],\n",
       "        [0., 0., 0.],\n",
       "        [0., 0., 0.]],\n",
       "\n",
       "       [[0., 0., 0.],\n",
       "        [0., 0., 0.],\n",
       "        [0., 0., 0.],\n",
       "        ...,\n",
       "        [0., 0., 0.],\n",
       "        [0., 0., 0.],\n",
       "        [0., 0., 0.]],\n",
       "\n",
       "       ...,\n",
       "\n",
       "       [[0., 0., 0.],\n",
       "        [0., 0., 0.],\n",
       "        [0., 0., 0.],\n",
       "        ...,\n",
       "        [0., 0., 0.],\n",
       "        [0., 0., 0.],\n",
       "        [0., 0., 0.]],\n",
       "\n",
       "       [[0., 0., 0.],\n",
       "        [0., 0., 0.],\n",
       "        [0., 0., 0.],\n",
       "        ...,\n",
       "        [0., 0., 0.],\n",
       "        [0., 0., 0.],\n",
       "        [0., 0., 0.]],\n",
       "\n",
       "       [[0., 0., 0.],\n",
       "        [0., 0., 0.],\n",
       "        [0., 0., 0.],\n",
       "        ...,\n",
       "        [0., 0., 0.],\n",
       "        [0., 0., 0.],\n",
       "        [0., 0., 0.]]], dtype=float32)"
      ]
     },
     "execution_count": 29,
     "metadata": {},
     "output_type": "execute_result"
    }
   ],
   "source": [
    "imread(para_cell)"
   ]
  },
  {
   "cell_type": "code",
   "execution_count": 25,
   "id": "52c94b2e",
   "metadata": {},
   "outputs": [],
   "source": [
    "para_img= imread(para_cell)"
   ]
  },
  {
   "cell_type": "code",
   "execution_count": 26,
   "id": "96c52963",
   "metadata": {},
   "outputs": [
    {
     "data": {
      "text/plain": [
       "<matplotlib.image.AxesImage at 0x1f9dd19be20>"
      ]
     },
     "execution_count": 26,
     "metadata": {},
     "output_type": "execute_result"
    },
    {
     "data": {
      "image/png": "[encoded data removed]",
      "text/plain": [
       "<Figure size 432x288 with 1 Axes>"
      ]
     },
     "metadata": {
      "needs_background": "light"
     },
     "output_type": "display_data"
    }
   ],
   "source": [
    "plt.imshow(para_img)"
   ]
  },
  {
   "cell_type": "code",
   "execution_count": 14,
   "id": "396d70ea",
   "metadata": {},
   "outputs": [
    {
     "data": {
      "text/plain": [
       "(148, 142, 3)"
      ]
     },
     "execution_count": 14,
     "metadata": {},
     "output_type": "execute_result"
    }
   ],
   "source": [
    "para_img.shape"
   ]
  },
  {
   "cell_type": "code",
   "execution_count": 32,
   "id": "125931fc",
   "metadata": {},
   "outputs": [
    {
     "data": {
      "text/plain": [
       "<matplotlib.image.AxesImage at 0x1f9dd32deb0>"
      ]
     },
     "execution_count": 32,
     "metadata": {},
     "output_type": "execute_result"
    },
    {
     "data": {
      "image/png": "[encoded data removed]",
      "text/plain": [
       "<Figure size 432x288 with 1 Axes>"
      ]
     },
     "metadata": {
      "needs_background": "light"
     },
     "output_type": "display_data"
    }
   ],
   "source": [
    "unifected_cell_path = train_path+'\\\\uninfected\\\\'+os.listdir(train_path+'\\\\uninfected')[0]\n",
    "unifected_cell = imread(unifected_cell_path)\n",
    "plt.imshow(unifected_cell)"
   ]
  },
  {
   "cell_type": "code",
   "execution_count": 33,
   "id": "2fe04968",
   "metadata": {},
   "outputs": [],
   "source": [
    "#Let's check how many images there are."
   ]
  },
  {
   "cell_type": "code",
   "execution_count": 34,
   "id": "103f2cce",
   "metadata": {},
   "outputs": [
    {
     "data": {
      "text/plain": [
       "12480"
      ]
     },
     "execution_count": 34,
     "metadata": {},
     "output_type": "execute_result"
    }
   ],
   "source": [
    "len(os.listdir(train_path+'\\\\parasitized'))"
   ]
  },
  {
   "cell_type": "code",
   "execution_count": 35,
   "id": "69d94a1c",
   "metadata": {},
   "outputs": [
    {
     "data": {
      "text/plain": [
       "12480"
      ]
     },
     "execution_count": 35,
     "metadata": {},
     "output_type": "execute_result"
    }
   ],
   "source": [
    "len(os.listdir(train_path+'\\\\uninfected'))"
   ]
  },
  {
   "cell_type": "code",
   "execution_count": 36,
   "id": "3446f298",
   "metadata": {},
   "outputs": [],
   "source": [
    "#Let's find out the average dimensions of these images"
   ]
  },
  {
   "cell_type": "code",
   "execution_count": 37,
   "id": "4e36ae93",
   "metadata": {},
   "outputs": [
    {
     "data": {
      "text/plain": [
       "(139, 160, 3)"
      ]
     },
     "execution_count": 37,
     "metadata": {},
     "output_type": "execute_result"
    }
   ],
   "source": [
    "unifected_cell.shape"
   ]
  },
  {
   "cell_type": "code",
   "execution_count": 38,
   "id": "ac6a219c",
   "metadata": {},
   "outputs": [
    {
     "data": {
      "text/plain": [
       "(148, 142, 3)"
      ]
     },
     "execution_count": 38,
     "metadata": {},
     "output_type": "execute_result"
    }
   ],
   "source": [
    "para_img.shape"
   ]
  },
  {
   "cell_type": "code",
   "execution_count": 39,
   "id": "a86ca558",
   "metadata": {},
   "outputs": [],
   "source": [
    "# Other options: https://stackoverflow.com/questions/1507084/how-to-check-dimensions-of-all-images-in-a-directory-using-python\n",
    "dim1 = []\n",
    "dim2 = []\n",
    "for image_filename in os.listdir(test_path+'\\\\uninfected'):\n",
    "    \n",
    "    img = imread(test_path+'\\\\uninfected'+'\\\\'+image_filename)\n",
    "    d1,d2,colors = img.shape\n",
    "    dim1.append(d1)\n",
    "    dim2.append(d2)"
   ]
  },
  {
   "cell_type": "code",
   "execution_count": 41,
   "id": "43d386cb",
   "metadata": {},
   "outputs": [
    {
     "data": {
      "text/plain": [
       "<seaborn.axisgrid.JointGrid at 0x1f9dd363fd0>"
      ]
     },
     "execution_count": 41,
     "metadata": {},
     "output_type": "execute_result"
    },
    {
     "data": {
      "image/png": "[encoded data removed]",
      "text/plain": [
       "<Figure size 432x432 with 3 Axes>"
      ]
     },
     "metadata": {
      "needs_background": "light"
     },
     "output_type": "display_data"
    }
   ],
   "source": [
    "sns.jointplot(x=dim1,y=dim2)"
   ]
  },
  {
   "cell_type": "code",
   "execution_count": 42,
   "id": "efa660e2",
   "metadata": {},
   "outputs": [
    {
     "data": {
      "text/plain": [
       "130.92538461538462"
      ]
     },
     "execution_count": 42,
     "metadata": {},
     "output_type": "execute_result"
    }
   ],
   "source": [
    "np.mean(dim1)"
   ]
  },
  {
   "cell_type": "code",
   "execution_count": 43,
   "id": "4820370d",
   "metadata": {},
   "outputs": [
    {
     "data": {
      "text/plain": [
       "130.75"
      ]
     },
     "execution_count": 43,
     "metadata": {},
     "output_type": "execute_result"
    }
   ],
   "source": [
    "np.mean(dim2)"
   ]
  },
  {
   "cell_type": "code",
   "execution_count": 44,
   "id": "3476a5c1",
   "metadata": {},
   "outputs": [],
   "source": [
    "#we are going to average the all img shape as below\n",
    "image_shape = (130,130,3)"
   ]
  },
  {
   "cell_type": "markdown",
   "id": "b9b9288e",
   "metadata": {},
   "source": [
    "## Preparing the Data for the model\n",
    "\n",
    "There is too much data for us to read all at once in memory. We can use some built in functions in Keras to automatically process the data, generate a flow of batches from a directory, and also manipulate the images.\n",
    "\n",
    "### Image Manipulation\n",
    "\n",
    "Its usually a good idea to manipulate the images with rotation, resizing, and scaling so the model becomes more robust to different images that our data set doesn't have. We can use the **ImageDataGenerator** to do this automatically for us. Check out the documentation for a full list of all the parameters you can use here!"
   ]
  },
  {
   "cell_type": "code",
   "execution_count": 45,
   "id": "5bb1be04",
   "metadata": {},
   "outputs": [],
   "source": [
    "from tensorflow.keras.preprocessing.image import ImageDataGenerator"
   ]
  },
  {
   "cell_type": "code",
   "execution_count": 46,
   "id": "32b5a50b",
   "metadata": {},
   "outputs": [],
   "source": [
    "image_gen = ImageDataGenerator(rotation_range=20, # rotate the image 20 degrees\n",
    "                               width_shift_range=0.10, # Shift the pic width by a max of 5%\n",
    "                               height_shift_range=0.10, # Shift the pic height by a max of 5%\n",
    "                               rescale=1/255, # Rescale the image by normalzing it.\n",
    "                               shear_range=0.1, # Shear means cutting away part of the image (max 10%)\n",
    "                               zoom_range=0.1, # Zoom in by 10% max\n",
    "                               horizontal_flip=True, # Allo horizontal flipping\n",
    "                               fill_mode='nearest' # Fill in missing pixels with the nearest filled value\n",
    "                              )"
   ]
  },
  {
   "cell_type": "code",
   "execution_count": 47,
   "id": "48eaae89",
   "metadata": {},
   "outputs": [
    {
     "data": {
      "text/plain": [
       "<matplotlib.image.AxesImage at 0x1f9e4758f10>"
      ]
     },
     "execution_count": 47,
     "metadata": {},
     "output_type": "execute_result"
    },
    {
     "data": {
      "image/png": "[encoded data removed]",
      "text/plain": [
       "<Figure size 432x288 with 1 Axes>"
      ]
     },
     "metadata": {
      "needs_background": "light"
     },
     "output_type": "display_data"
    }
   ],
   "source": [
    "plt.imshow(para_img)"
   ]
  },
  {
   "cell_type": "code",
   "execution_count": 48,
   "id": "af41b329",
   "metadata": {},
   "outputs": [
    {
     "data": {
      "text/plain": [
       "<matplotlib.image.AxesImage at 0x1f9e5790670>"
      ]
     },
     "execution_count": 48,
     "metadata": {},
     "output_type": "execute_result"
    },
    {
     "data": {
      "image/png": "[encoded data removed]",
      "text/plain": [
       "<Figure size 432x288 with 1 Axes>"
      ]
     },
     "metadata": {
      "needs_background": "light"
     },
     "output_type": "display_data"
    }
   ],
   "source": [
    "plt.imshow(image_gen.random_transform(para_img))"
   ]
  },
  {
   "cell_type": "code",
   "execution_count": 51,
   "id": "316a1b01",
   "metadata": {},
   "outputs": [
    {
     "data": {
      "text/plain": [
       "<matplotlib.image.AxesImage at 0x1f9e58a4fd0>"
      ]
     },
     "execution_count": 51,
     "metadata": {},
     "output_type": "execute_result"
    },
    {
     "data": {
      "image/png": "[encoded data removed]",
      "text/plain": [
       "<Figure size 432x288 with 1 Axes>"
      ]
     },
     "metadata": {
      "needs_background": "light"
     },
     "output_type": "display_data"
    }
   ],
   "source": [
    "plt.imshow(image_gen.random_transform(para_img))"
   ]
  },
  {
   "cell_type": "markdown",
   "id": "b5c7bb4b",
   "metadata": {},
   "source": [
    "### Generating many manipulated images from a directory\n",
    "\n",
    "\n",
    "In order to use .flow_from_directory, you must organize the images in sub-directories. This is an absolute requirement, otherwise the method won't work. The directories should only contain images of one class, so one folder per class of images.\n",
    "\n",
    "Structure Needed:\n",
    "\n",
    "* Image Data Folder\n",
    "    * Class 1\n",
    "        * 0.jpg\n",
    "        * 1.jpg\n",
    "        * ...\n",
    "    * Class 2\n",
    "        * 0.jpg\n",
    "        * 1.jpg\n",
    "        * ...\n",
    "    * ...\n",
    "    * Class n"
   ]
  },
  {
   "cell_type": "code",
   "execution_count": 53,
   "id": "a2c2ae35",
   "metadata": {},
   "outputs": [
    {
     "name": "stdout",
     "output_type": "stream",
     "text": [
      "Found 24958 images belonging to 2 classes.\n"
     ]
    },
    {
     "data": {
      "text/plain": [
       "<keras.preprocessing.image.DirectoryIterator at 0x1f9e58cf430>"
      ]
     },
     "execution_count": 53,
     "metadata": {},
     "output_type": "execute_result"
    }
   ],
   "source": [
    "image_gen.flow_from_directory(train_path)"
   ]
  },
  {
   "cell_type": "code",
   "execution_count": 54,
   "id": "1e9175aa",
   "metadata": {},
   "outputs": [
    {
     "name": "stdout",
     "output_type": "stream",
     "text": [
      "Found 2600 images belonging to 2 classes.\n"
     ]
    },
    {
     "data": {
      "text/plain": [
       "<keras.preprocessing.image.DirectoryIterator at 0x1f9e58cf610>"
      ]
     },
     "execution_count": 54,
     "metadata": {},
     "output_type": "execute_result"
    }
   ],
   "source": [
    "image_gen.flow_from_directory(test_path)"
   ]
  },
  {
   "cell_type": "markdown",
   "id": "02a081bf",
   "metadata": {},
   "source": [
    "# Creating the Model"
   ]
  },
  {
   "cell_type": "code",
   "execution_count": 55,
   "id": "e7e603d0",
   "metadata": {},
   "outputs": [],
   "source": [
    "from tensorflow.keras.models import Sequential\n",
    "from tensorflow.keras.layers import Activation, Dropout, Flatten, Dense, Conv2D, MaxPooling2D"
   ]
  },
  {
   "cell_type": "code",
   "execution_count": 56,
   "id": "03d4a847",
   "metadata": {},
   "outputs": [],
   "source": [
    "#https://stats.stackexchange.com/questions/148139/rules-for-selecting-convolutional-neural-network-hyperparameters\n",
    "model = Sequential()\n",
    "\n",
    "model.add(Conv2D(filters=32, kernel_size=(3,3),input_shape=image_shape, activation='relu',))\n",
    "model.add(MaxPooling2D(pool_size=(2, 2)))\n",
    "\n",
    "model.add(Conv2D(filters=64, kernel_size=(3,3),input_shape=image_shape, activation='relu',))\n",
    "model.add(MaxPooling2D(pool_size=(2, 2)))\n",
    "\n",
    "model.add(Conv2D(filters=64, kernel_size=(3,3),input_shape=image_shape, activation='relu',))\n",
    "model.add(MaxPooling2D(pool_size=(2, 2)))\n",
    "\n",
    "\n",
    "model.add(Flatten())\n",
    "\n",
    "\n",
    "model.add(Dense(128))\n",
    "model.add(Activation('relu'))\n",
    "\n",
    "# Dropouts help reduce overfitting by randomly turning neurons off during training.\n",
    "# Here we say randomly turn off 50% of neurons.\n",
    "model.add(Dropout(0.5))\n",
    "\n",
    "# Last layer, remember its binary so we use sigmoid\n",
    "model.add(Dense(1))\n",
    "model.add(Activation('sigmoid'))\n",
    "\n",
    "model.compile(loss='binary_crossentropy',\n",
    "              optimizer='adam',\n",
    "              metrics=['accuracy'])"
   ]
  },
  {
   "cell_type": "code",
   "execution_count": 57,
   "id": "b12f7d59",
   "metadata": {},
   "outputs": [
    {
     "name": "stdout",
     "output_type": "stream",
     "text": [
      "Model: \"sequential\"\n",
      "_________________________________________________________________\n",
      " Layer (type)                Output Shape              Param #   \n",
      "=================================================================\n",
      " conv2d (Conv2D)             (None, 128, 128, 32)      896       \n",
      "                                                                 \n",
      " max_pooling2d (MaxPooling2D  (None, 64, 64, 32)       0         \n",
      " )                                                               \n",
      "                                                                 \n",
      " conv2d_1 (Conv2D)           (None, 62, 62, 64)        18496     \n",
      "                                                                 \n",
      " max_pooling2d_1 (MaxPooling  (None, 31, 31, 64)       0         \n",
      " 2D)                                                             \n",
      "                                                                 \n",
      " conv2d_2 (Conv2D)           (None, 29, 29, 64)        36928     \n",
      "                                                                 \n",
      " max_pooling2d_2 (MaxPooling  (None, 14, 14, 64)       0         \n",
      " 2D)                                                             \n",
      "                                                                 \n",
      " flatten (Flatten)           (None, 12544)             0         \n",
      "                                                                 \n",
      " dense (Dense)               (None, 128)               1605760   \n",
      "                                                                 \n",
      " activation (Activation)     (None, 128)               0         \n",
      "                                                                 \n",
      " dropout (Dropout)           (None, 128)               0         \n",
      "                                                                 \n",
      " dense_1 (Dense)             (None, 1)                 129       \n",
      "                                                                 \n",
      " activation_1 (Activation)   (None, 1)                 0         \n",
      "                                                                 \n",
      "=================================================================\n",
      "Total params: 1,662,209\n",
      "Trainable params: 1,662,209\n",
      "Non-trainable params: 0\n",
      "_________________________________________________________________\n"
     ]
    }
   ],
   "source": [
    "model.summary()"
   ]
  },
  {
   "cell_type": "code",
   "execution_count": 58,
   "id": "c914fce9",
   "metadata": {},
   "outputs": [],
   "source": [
    "## Early Stopping"
   ]
  },
  {
   "cell_type": "code",
   "execution_count": 59,
   "id": "d802ba5f",
   "metadata": {},
   "outputs": [],
   "source": [
    "from tensorflow.keras.callbacks import EarlyStopping"
   ]
  },
  {
   "cell_type": "code",
   "execution_count": 60,
   "id": "4c3fb45f",
   "metadata": {},
   "outputs": [],
   "source": [
    "early_stop = EarlyStopping(monitor='val_loss',patience=2)"
   ]
  },
  {
   "cell_type": "markdown",
   "id": "5e63fb40",
   "metadata": {},
   "source": [
    "## Training the Model"
   ]
  },
  {
   "cell_type": "code",
   "execution_count": 62,
   "id": "fabddb98",
   "metadata": {},
   "outputs": [],
   "source": [
    "batch_size = 16"
   ]
  },
  {
   "cell_type": "code",
   "execution_count": 63,
   "id": "a1447b05",
   "metadata": {},
   "outputs": [
    {
     "name": "stdout",
     "output_type": "stream",
     "text": [
      "Found 24958 images belonging to 2 classes.\n"
     ]
    }
   ],
   "source": [
    "train_image_gen = image_gen.flow_from_directory(train_path,\n",
    "                                               target_size=image_shape[:2],\n",
    "                                                color_mode='rgb',\n",
    "                                               batch_size=batch_size,\n",
    "                                               class_mode='binary')"
   ]
  },
  {
   "cell_type": "code",
   "execution_count": 64,
   "id": "f5a85447",
   "metadata": {},
   "outputs": [
    {
     "name": "stdout",
     "output_type": "stream",
     "text": [
      "Found 2600 images belonging to 2 classes.\n"
     ]
    }
   ],
   "source": [
    "test_image_gen = image_gen.flow_from_directory(test_path,\n",
    "                                               target_size=image_shape[:2],\n",
    "                                               color_mode='rgb',\n",
    "                                               batch_size=batch_size,\n",
    "                                               class_mode='binary',shuffle=False)"
   ]
  },
  {
   "cell_type": "code",
   "execution_count": 65,
   "id": "02ab6bbc",
   "metadata": {},
   "outputs": [
    {
     "data": {
      "text/plain": [
       "{'parasitized': 0, 'uninfected': 1}"
      ]
     },
     "execution_count": 65,
     "metadata": {},
     "output_type": "execute_result"
    }
   ],
   "source": [
    "train_image_gen.class_indices"
   ]
  },
  {
   "cell_type": "code",
   "execution_count": 66,
   "id": "2fb3e74a",
   "metadata": {},
   "outputs": [
    {
     "name": "stderr",
     "output_type": "stream",
     "text": [
      "<ipython-input-66-569c1e4d5038>:1: UserWarning: `Model.fit_generator` is deprecated and will be removed in a future version. Please use `Model.fit`, which supports generators.\n",
      "  results = model.fit_generator(train_image_gen,epochs=20,\n"
     ]
    },
    {
     "name": "stdout",
     "output_type": "stream",
     "text": [
      "Epoch 1/20\n",
      "1560/1560 [==============================] - 316s 202ms/step - loss: 0.3439 - accuracy: 0.8540 - val_loss: 0.2097 - val_accuracy: 0.9323\n",
      "Epoch 2/20\n",
      "1560/1560 [==============================] - 376s 241ms/step - loss: 0.1782 - accuracy: 0.9446 - val_loss: 0.1746 - val_accuracy: 0.9419\n",
      "Epoch 3/20\n",
      "1560/1560 [==============================] - 380s 244ms/step - loss: 0.1669 - accuracy: 0.9487 - val_loss: 0.1641 - val_accuracy: 0.9419\n",
      "Epoch 4/20\n",
      "1560/1560 [==============================] - 362s 232ms/step - loss: 0.1642 - accuracy: 0.9494 - val_loss: 0.1541 - val_accuracy: 0.9485\n",
      "Epoch 5/20\n",
      "1560/1560 [==============================] - 359s 230ms/step - loss: 0.1573 - accuracy: 0.9496 - val_loss: 0.1520 - val_accuracy: 0.9496\n",
      "Epoch 6/20\n",
      "1560/1560 [==============================] - 345s 221ms/step - loss: 0.1574 - accuracy: 0.9507 - val_loss: 0.1490 - val_accuracy: 0.9538\n",
      "Epoch 7/20\n",
      "1560/1560 [==============================] - 305s 196ms/step - loss: 0.1528 - accuracy: 0.9516 - val_loss: 0.1506 - val_accuracy: 0.9492\n",
      "Epoch 8/20\n",
      "1560/1560 [==============================] - 302s 194ms/step - loss: 0.1531 - accuracy: 0.9526 - val_loss: 0.1743 - val_accuracy: 0.9427\n"
     ]
    }
   ],
   "source": [
    "results = model.fit_generator(train_image_gen,epochs=20,\n",
    "                              validation_data=test_image_gen,\n",
    "                             callbacks=[early_stop])"
   ]
  },
  {
   "cell_type": "code",
   "execution_count": 67,
   "id": "5e745dd6",
   "metadata": {},
   "outputs": [],
   "source": [
    "from tensorflow.keras.models import load_model\n",
    "model.save('rahul_models\\malaria_detector.h5')"
   ]
  },
  {
   "cell_type": "code",
   "execution_count": 68,
   "id": "0a1d1e8f",
   "metadata": {},
   "outputs": [],
   "source": [
    "# Evaluating the Model"
   ]
  },
  {
   "cell_type": "code",
   "execution_count": 70,
   "id": "960f5ce9",
   "metadata": {},
   "outputs": [],
   "source": [
    "losses = pd.DataFrame(model.history.history)"
   ]
  },
  {
   "cell_type": "code",
   "execution_count": 71,
   "id": "8be77ff1",
   "metadata": {},
   "outputs": [
    {
     "data": {
      "text/plain": [
       "<AxesSubplot:>"
      ]
     },
     "execution_count": 71,
     "metadata": {},
     "output_type": "execute_result"
    },
    {
     "data": {
      "image/png": "[encoded data removed]",
      "text/plain": [
       "<Figure size 432x288 with 1 Axes>"
      ]
     },
     "metadata": {
      "needs_background": "light"
     },
     "output_type": "display_data"
    }
   ],
   "source": [
    "losses[['loss','val_loss']].plot()"
   ]
  },
  {
   "cell_type": "code",
   "execution_count": 72,
   "id": "33886e2b",
   "metadata": {},
   "outputs": [
    {
     "data": {
      "text/plain": [
       "['loss', 'accuracy']"
      ]
     },
     "execution_count": 72,
     "metadata": {},
     "output_type": "execute_result"
    }
   ],
   "source": [
    "model.metrics_names"
   ]
  },
  {
   "cell_type": "code",
   "execution_count": 73,
   "id": "f5780cad",
   "metadata": {},
   "outputs": [
    {
     "name": "stderr",
     "output_type": "stream",
     "text": [
      "<ipython-input-73-31acfd80dad9>:1: UserWarning: `Model.evaluate_generator` is deprecated and will be removed in a future version. Please use `Model.evaluate`, which supports generators.\n",
      "  model.evaluate_generator(test_image_gen)\n"
     ]
    },
    {
     "data": {
      "text/plain": [
       "[0.17831960320472717, 0.9415384531021118]"
      ]
     },
     "execution_count": 73,
     "metadata": {},
     "output_type": "execute_result"
    }
   ],
   "source": [
    "model.evaluate_generator(test_image_gen)"
   ]
  },
  {
   "cell_type": "code",
   "execution_count": 74,
   "id": "e60f805a",
   "metadata": {},
   "outputs": [],
   "source": [
    "from tensorflow.keras.preprocessing import image"
   ]
  },
  {
   "cell_type": "code",
   "execution_count": 75,
   "id": "ac2c4609",
   "metadata": {},
   "outputs": [
    {
     "name": "stderr",
     "output_type": "stream",
     "text": [
      "<ipython-input-75-f14b427af105>:2: UserWarning: `Model.predict_generator` is deprecated and will be removed in a future version. Please use `Model.predict`, which supports generators.\n",
      "  pred_probabilities = model.predict_generator(test_image_gen)\n"
     ]
    }
   ],
   "source": [
    "# https://datascience.stackexchange.com/questions/13894/how-to-get-predictions-with-predict-generator-on-streaming-test-data-in-keras\n",
    "pred_probabilities = model.predict_generator(test_image_gen)"
   ]
  },
  {
   "cell_type": "code",
   "execution_count": 76,
   "id": "59cf5ffe",
   "metadata": {},
   "outputs": [
    {
     "data": {
      "text/plain": [
       "array([[4.5105815e-04],\n",
       "       [3.3423305e-03],\n",
       "       [2.1117926e-04],\n",
       "       ...,\n",
       "       [9.8224312e-01],\n",
       "       [9.9092191e-01],\n",
       "       [9.8846197e-01]], dtype=float32)"
      ]
     },
     "execution_count": 76,
     "metadata": {},
     "output_type": "execute_result"
    }
   ],
   "source": [
    "pred_probabilities"
   ]
  },
  {
   "cell_type": "code",
   "execution_count": 77,
   "id": "eb9c5338",
   "metadata": {},
   "outputs": [],
   "source": [
    "predictions = pred_probabilities > 0.5"
   ]
  },
  {
   "cell_type": "code",
   "execution_count": 78,
   "id": "9290c39b",
   "metadata": {},
   "outputs": [
    {
     "data": {
      "text/plain": [
       "array([[False],\n",
       "       [False],\n",
       "       [False],\n",
       "       ...,\n",
       "       [ True],\n",
       "       [ True],\n",
       "       [ True]])"
      ]
     },
     "execution_count": 78,
     "metadata": {},
     "output_type": "execute_result"
    }
   ],
   "source": [
    "# Numpy can treat this as True/False for us\n",
    "predictions"
   ]
  },
  {
   "cell_type": "code",
   "execution_count": 79,
   "id": "5e651c02",
   "metadata": {},
   "outputs": [],
   "source": [
    "from sklearn.metrics import classification_report,confusion_matrix"
   ]
  },
  {
   "cell_type": "code",
   "execution_count": 80,
   "id": "229b0d47",
   "metadata": {},
   "outputs": [
    {
     "name": "stdout",
     "output_type": "stream",
     "text": [
      "              precision    recall  f1-score   support\n",
      "\n",
      "           0       0.97      0.92      0.94      1300\n",
      "           1       0.92      0.97      0.95      1300\n",
      "\n",
      "    accuracy                           0.94      2600\n",
      "   macro avg       0.95      0.94      0.94      2600\n",
      "weighted avg       0.95      0.94      0.94      2600\n",
      "\n"
     ]
    }
   ],
   "source": [
    "print(classification_report(test_image_gen.classes,predictions))"
   ]
  },
  {
   "cell_type": "code",
   "execution_count": 81,
   "id": "28552b63",
   "metadata": {},
   "outputs": [
    {
     "data": {
      "text/plain": [
       "array([[1190,  110],\n",
       "       [  36, 1264]], dtype=int64)"
      ]
     },
     "execution_count": 81,
     "metadata": {},
     "output_type": "execute_result"
    }
   ],
   "source": [
    "confusion_matrix(test_image_gen.classes,predictions)"
   ]
  },
  {
   "cell_type": "code",
   "execution_count": 82,
   "id": "6169ee6d",
   "metadata": {},
   "outputs": [
    {
     "data": {
      "text/plain": [
       "'C:\\\\Users\\\\Ultimatrix\\\\Downloads\\\\TF_2_Notebooks_and_Data\\\\04-CNNs\\\\cell_images\\\\train\\\\\\\\parasitized\\\\C100P61ThinF_IMG_20150918_144104_cell_162.png'"
      ]
     },
     "execution_count": 82,
     "metadata": {},
     "output_type": "execute_result"
    }
   ],
   "source": [
    "# Your file path will be different!\n",
    "para_cell"
   ]
  },
  {
   "cell_type": "code",
   "execution_count": 83,
   "id": "21e19a03",
   "metadata": {},
   "outputs": [],
   "source": [
    "my_image = image.load_img(para_cell,target_size=image_shape)"
   ]
  },
  {
   "cell_type": "code",
   "execution_count": 84,
   "id": "d41846cd",
   "metadata": {},
   "outputs": [
    {
     "data": {
      "image/png": "[encoded data removed]",
      "text/plain": [
       "<PIL.Image.Image image mode=RGB size=130x130 at 0x1F9EC0E9DF0>"
      ]
     },
     "execution_count": 84,
     "metadata": {},
     "output_type": "execute_result"
    }
   ],
   "source": [
    "my_image"
   ]
  },
  {
   "cell_type": "code",
   "execution_count": 85,
   "id": "91087f19",
   "metadata": {},
   "outputs": [
    {
     "data": {
      "text/plain": [
       "PIL.Image.Image"
      ]
     },
     "execution_count": 85,
     "metadata": {},
     "output_type": "execute_result"
    }
   ],
   "source": [
    "type(my_image)"
   ]
  },
  {
   "cell_type": "code",
   "execution_count": 86,
   "id": "f39270eb",
   "metadata": {},
   "outputs": [],
   "source": [
    "my_image = image.img_to_array(my_image)"
   ]
  },
  {
   "cell_type": "code",
   "execution_count": 87,
   "id": "a42d2c54",
   "metadata": {},
   "outputs": [
    {
     "data": {
      "text/plain": [
       "numpy.ndarray"
      ]
     },
     "execution_count": 87,
     "metadata": {},
     "output_type": "execute_result"
    }
   ],
   "source": [
    "type(my_image)"
   ]
  },
  {
   "cell_type": "code",
   "execution_count": 88,
   "id": "fca8820c",
   "metadata": {},
   "outputs": [
    {
     "data": {
      "text/plain": [
       "(130, 130, 3)"
      ]
     },
     "execution_count": 88,
     "metadata": {},
     "output_type": "execute_result"
    }
   ],
   "source": [
    "my_image.shape"
   ]
  },
  {
   "cell_type": "code",
   "execution_count": 89,
   "id": "3b6f7b5a",
   "metadata": {},
   "outputs": [],
   "source": [
    "my_image = np.expand_dims(my_image, axis=0)"
   ]
  },
  {
   "cell_type": "code",
   "execution_count": 90,
   "id": "8bd77891",
   "metadata": {},
   "outputs": [
    {
     "data": {
      "text/plain": [
       "(1, 130, 130, 3)"
      ]
     },
     "execution_count": 90,
     "metadata": {},
     "output_type": "execute_result"
    }
   ],
   "source": [
    "my_image.shape"
   ]
  },
  {
   "cell_type": "code",
   "execution_count": 91,
   "id": "a7bb7bcb",
   "metadata": {},
   "outputs": [
    {
     "data": {
      "text/plain": [
       "array([[0.]], dtype=float32)"
      ]
     },
     "execution_count": 91,
     "metadata": {},
     "output_type": "execute_result"
    }
   ],
   "source": [
    "model.predict(my_image)"
   ]
  },
  {
   "cell_type": "code",
   "execution_count": 92,
   "id": "8dbeb86d",
   "metadata": {},
   "outputs": [
    {
     "data": {
      "text/plain": [
       "{'parasitized': 0, 'uninfected': 1}"
      ]
     },
     "execution_count": 92,
     "metadata": {},
     "output_type": "execute_result"
    }
   ],
   "source": [
    "train_image_gen.class_indices"
   ]
  },
  {
   "cell_type": "code",
   "execution_count": null,
   "id": "cb5dc479",
   "metadata": {},
   "outputs": [],
   "source": []
  }
 ],
 "metadata": {
  "kernelspec": {
   "display_name": "Python 3",
   "language": "python",
   "name": "python3"
  },
  "language_info": {
   "codemirror_mode": {
    "name": "ipython",
    "version": 3
   },
   "file_extension": ".py",
   "mimetype": "text/x-python",
   "name": "python",
   "nbconvert_exporter": "python",
   "pygments_lexer": "ipython3",
   "version": "3.8.8"
  }
 },
 "nbformat": 4,
 "nbformat_minor": 5
}
